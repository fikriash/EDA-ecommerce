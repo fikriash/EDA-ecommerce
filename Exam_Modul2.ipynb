{
 "cells": [
  {
   "cell_type": "markdown",
   "metadata": {},
   "source": [
    "## Nama : Fikri Aziz S\n",
    "### Exam Modul 2"
   ]
  },
  {
   "cell_type": "markdown",
   "metadata": {},
   "source": [
    "### Untuk push github"
   ]
  },
  {
   "cell_type": "markdown",
   "metadata": {},
   "source": [
    "git init\n",
    "git add .\n",
    "git commit -m \"Exam-2\"\n",
    "git remote add origin https://github.com/fikriash/Exam_2_JCDS.git\n",
    "git push -u origin master"
   ]
  },
  {
   "cell_type": "markdown",
   "metadata": {},
   "source": [
    "## Kegunaan Jenis Grafik\n",
    "#### Grafik line (plt.plot) --> untuk time series\n",
    "#### Bar plot (plt.bar, plt.hist, sns.barplot, sns.boxplot, sns.countplot) --> Comparison misal antar gender\n",
    "#### Scatter Plot (plt.scatter) --> Korelasi\n",
    "#### Pie Plot (plt.pie) --> untuk komposisi\n",
    "#### Boxplot (plt.boxplot, sns.boxplot, sns.swarmplot, sns.violinplot, sns.stripplot) --> persebaran data"
   ]
  },
  {
   "cell_type": "markdown",
   "metadata": {},
   "source": [
    "### Variabel\n",
    "\n",
    "- Unnamed : nomer produk per category\n",
    "- Category : Kelompok produk\n",
    "- Original Price : Harga produk sebelum didiskon\n",
    "- perc_of_unit_sold : Persentase penjualan produk\n",
    "- Shipping rate : tingkat pengiriman produk\n",
    "- gender : jenis kelamin pembeli\n"
   ]
  },
  {
   "cell_type": "markdown",
   "metadata": {},
   "source": [
    "## Latar Belakang Masalah\n",
    "\n",
    "###### Terdapat banyak sekali produk dan category product yang persentase terjual nya masih dibawah rata-rata\n",
    "###### Banyak pemebelian produk yang tidak memberikan rating terhadap produk yang terjual\n",
    "###### Terdapat column unnamed yang tidak jelas keterangan nya (akan tetapi menurut saya ini merupakan nomer produk per category\n",
    "###### Tidak terdapat nya data Quantity setiap produk yang terjual"
   ]
  },
  {
   "cell_type": "markdown",
   "metadata": {},
   "source": [
    "## Tujuan EDA\n",
    "\n",
    "###### Meningkatkan persentase penjualan product terutama untuk produk dengan persentase penjualan di bawah rata-rata per category\n",
    "###### Menganalisa hubungan antara persentase penjualan produk dengan original price dan price per category"
   ]
  },
  {
   "cell_type": "markdown",
   "metadata": {},
   "source": [
    "# Import Package"
   ]
  },
  {
   "cell_type": "code",
   "execution_count": 2,
   "metadata": {},
   "outputs": [],
   "source": [
    "import numpy as np\n",
    "import pandas as pd\n",
    "import matplotlib.pyplot as plt\n",
    "import seaborn as sns\n",
    "import math\n",
    "%matplotlib inline\n",
    "sns.set_style('whitegrid') # memutihkan grid\n",
    "pd.set_option('display.max_columns', None) # mengatur jumlah output yg akan dikeluarkan\n",
    "pd.set_option('display.max_rows', 1000)"
   ]
  },
  {
   "cell_type": "markdown",
   "metadata": {},
   "source": [
    "# Import Data"
   ]
  },
  {
   "cell_type": "code",
   "execution_count": 186,
   "metadata": {},
   "outputs": [],
   "source": [
    "dfo = pd.read_csv('ecommerce.csv')\n",
    "dfo.head(5)\n",
    "dfs = dfo # Data sintetis"
   ]
  },
  {
   "cell_type": "code",
   "execution_count": 6,
   "metadata": {},
   "outputs": [
    {
     "name": "stdout",
     "output_type": "stream",
     "text": [
      "<class 'pandas.core.frame.DataFrame'>\n",
      "RangeIndex: 609 entries, 0 to 608\n",
      "Data columns (total 9 columns):\n",
      " #   Column             Non-Null Count  Dtype  \n",
      "---  ------             --------------  -----  \n",
      " 0   Unnamed: 0         609 non-null    int64  \n",
      " 1   category           609 non-null    object \n",
      " 2   product            609 non-null    object \n",
      " 3   Original_price     583 non-null    float64\n",
      " 4   price              609 non-null    float64\n",
      " 5   perc_of_unit_sold  522 non-null    float64\n",
      " 6   rating             427 non-null    float64\n",
      " 7   shpping_rate       567 non-null    object \n",
      " 8   gender             581 non-null    object \n",
      "dtypes: float64(4), int64(1), object(4)\n",
      "memory usage: 42.9+ KB\n"
     ]
    }
   ],
   "source": [
    "dfs.info()"
   ]
  },
  {
   "cell_type": "markdown",
   "metadata": {},
   "source": [
    "# Cek Missing Value"
   ]
  },
  {
   "cell_type": "code",
   "execution_count": 7,
   "metadata": {},
   "outputs": [
    {
     "data": {
      "text/plain": [
       "Unnamed: 0             0\n",
       "category               0\n",
       "product                0\n",
       "Original_price        26\n",
       "price                  0\n",
       "perc_of_unit_sold     87\n",
       "rating               182\n",
       "shpping_rate          42\n",
       "gender                28\n",
       "dtype: int64"
      ]
     },
     "execution_count": 7,
     "metadata": {},
     "output_type": "execute_result"
    }
   ],
   "source": [
    "dfs.isnull().sum()"
   ]
  },
  {
   "cell_type": "code",
   "execution_count": null,
   "metadata": {},
   "outputs": [],
   "source": [
    "dfs.head(21)"
   ]
  },
  {
   "cell_type": "markdown",
   "metadata": {},
   "source": [
    "- Terdapat 609 data penjualan"
   ]
  },
  {
   "cell_type": "markdown",
   "metadata": {},
   "source": [
    "# Handling Missing Value"
   ]
  },
  {
   "cell_type": "code",
   "execution_count": 31,
   "metadata": {},
   "outputs": [
    {
     "data": {
      "text/plain": [
       "4.269293924466338"
      ]
     },
     "execution_count": 31,
     "metadata": {},
     "output_type": "execute_result"
    }
   ],
   "source": [
    "# persentase nan Original Price\n",
    "26 / 609 * 100"
   ]
  },
  {
   "cell_type": "code",
   "execution_count": 194,
   "metadata": {},
   "outputs": [
    {
     "data": {
      "text/plain": [
       "14.285714285714285"
      ]
     },
     "execution_count": 194,
     "metadata": {},
     "output_type": "execute_result"
    }
   ],
   "source": [
    "# persentase Nan perc_of unit sold\n",
    "87 / 609 * 100"
   ]
  },
  {
   "cell_type": "code",
   "execution_count": 209,
   "metadata": {},
   "outputs": [
    {
     "data": {
      "text/plain": [
       "6.896551724137931"
      ]
     },
     "execution_count": 209,
     "metadata": {},
     "output_type": "execute_result"
    }
   ],
   "source": [
    "# persentase nan shipping rate\n",
    "42/609*100"
   ]
  },
  {
   "cell_type": "code",
   "execution_count": 210,
   "metadata": {},
   "outputs": [
    {
     "data": {
      "text/plain": [
       "4.597701149425287"
      ]
     },
     "execution_count": 210,
     "metadata": {},
     "output_type": "execute_result"
    }
   ],
   "source": [
    "# persentase nan gender\n",
    "28/609*100"
   ]
  },
  {
   "cell_type": "code",
   "execution_count": 73,
   "metadata": {},
   "outputs": [
    {
     "data": {
      "text/plain": [
       "<matplotlib.axes._subplots.AxesSubplot at 0x21bff2bbfa0>"
      ]
     },
     "execution_count": 73,
     "metadata": {},
     "output_type": "execute_result"
    },
    {
     "data": {
      "image/png": "[encoded data removed]",
      "text/plain": [
       "<Figure size 432x288 with 1 Axes>"
      ]
     },
     "metadata": {},
     "output_type": "display_data"
    }
   ],
   "source": [
    "sns.boxplot(x=dfs['Original_price'])"
   ]
  },
  {
   "cell_type": "markdown",
   "metadata": {},
   "source": [
    "##### Ada outliers, maka dari itu digunakan nilai median untuk menghandle nan Original_price"
   ]
  },
  {
   "cell_type": "code",
   "execution_count": 195,
   "metadata": {},
   "outputs": [
    {
     "data": {
      "text/plain": [
       "<matplotlib.axes._subplots.AxesSubplot at 0x21bff578e50>"
      ]
     },
     "execution_count": 195,
     "metadata": {},
     "output_type": "execute_result"
    },
    {
     "data": {
      "image/png": "[encoded data removed]",
      "text/plain": [
       "<Figure size 432x288 with 1 Axes>"
      ]
     },
     "metadata": {},
     "output_type": "display_data"
    }
   ],
   "source": [
    "sns.boxplot(x=dfs['perc_of_unit_sold'])"
   ]
  },
  {
   "cell_type": "markdown",
   "metadata": {},
   "source": [
    "##### Tidak ada outliers, maka dari itu digunakan nilai mean untuk menghandle nan perc_of_unit_sold"
   ]
  },
  {
   "cell_type": "code",
   "execution_count": 214,
   "metadata": {},
   "outputs": [
    {
     "data": {
      "text/plain": [
       "0    FREE Shipping\n",
       "dtype: object"
      ]
     },
     "execution_count": 214,
     "metadata": {},
     "output_type": "execute_result"
    }
   ],
   "source": [
    "dfs['shpping_rate'].mode()"
   ]
  },
  {
   "cell_type": "code",
   "execution_count": 215,
   "metadata": {},
   "outputs": [
    {
     "data": {
      "text/plain": [
       "0    men\n",
       "dtype: object"
      ]
     },
     "execution_count": 215,
     "metadata": {},
     "output_type": "execute_result"
    }
   ],
   "source": [
    "dfs['gender'].mode()"
   ]
  },
  {
   "cell_type": "markdown",
   "metadata": {},
   "source": [
    "##### Untuk handling nan shipping rate dan gender digunakan modus, karena dalam data set tersebut yang paling banyakk berbelanja ialah men, dan shipping rate ialah Free Shipping"
   ]
  },
  {
   "cell_type": "code",
   "execution_count": 118,
   "metadata": {},
   "outputs": [
    {
     "data": {
      "text/plain": [
       "category\n",
       "Athletic Shoes            339.0\n",
       "Casual & Dress Shoes      469.0\n",
       "Eyewear                   820.0\n",
       "Perfumes & Fragrances     273.0\n",
       "Sportswear                140.0\n",
       "Wallets                   195.0\n",
       "Watches                  1125.0\n",
       "Name: Original_price, dtype: float64"
      ]
     },
     "execution_count": 118,
     "metadata": {},
     "output_type": "execute_result"
    }
   ],
   "source": [
    "dfs1 = dfs.groupby(['category'])['Original_price'].median()\n",
    "dfs1"
   ]
  },
  {
   "cell_type": "code",
   "execution_count": 200,
   "metadata": {},
   "outputs": [
    {
     "data": {
      "text/plain": [
       "category\n",
       "Athletic Shoes           63.048780\n",
       "Casual & Dress Shoes     52.028571\n",
       "Eyewear                  48.307692\n",
       "Perfumes & Fragrances    73.793651\n",
       "Sportswear               51.142857\n",
       "Wallets                  43.942857\n",
       "Watches                  61.865772\n",
       "Name: perc_of_unit_sold, dtype: float64"
      ]
     },
     "execution_count": 200,
     "metadata": {},
     "output_type": "execute_result"
    }
   ],
   "source": [
    "dfs2 = dfs.groupby(['category'])['perc_of_unit_sold'].mean()\n",
    "dfs2"
   ]
  },
  {
   "cell_type": "code",
   "execution_count": 219,
   "metadata": {},
   "outputs": [],
   "source": [
    "a = dfs['gender'].mode().iloc[0]\n",
    "b = dfs['shpping_rate'].mode().iloc[0]"
   ]
  },
  {
   "cell_type": "code",
   "execution_count": null,
   "metadata": {},
   "outputs": [],
   "source": [
    "dfs.sort_values(by=['Original_price']).tail(27)"
   ]
  },
  {
   "cell_type": "code",
   "execution_count": 191,
   "metadata": {},
   "outputs": [],
   "source": [
    "dfw= dfs[dfs['category']=='Watches']\n",
    "dfA= dfs[dfs['category']=='Athletic Shoes']\n",
    "dfp= dfs[dfs['category']=='Perfumes & Fragrances']\n",
    "dfS= dfs[dfs['category']=='Sportswear']\n",
    "dfC = dfs[dfs['category']=='Casual & Dress Shoes']\n",
    "dfE = dfs[dfs['category']=='Eyewear']\n",
    "dfWal= dfs[dfs['category']=='Wallets']"
   ]
  },
  {
   "cell_type": "code",
   "execution_count": null,
   "metadata": {},
   "outputs": [],
   "source": [
    "dfw['Original_price'] = dfw['Original_price'].fillna(dfs1['Watches'])\n",
    "dfw['perc_of_unit_sold'] = dfw['perc_of_unit_sold'].fillna(dfs2['Watches'])\n",
    "dfA['Original_price'] = dfA['Original_price'].fillna(dfs1['Athletic Shoes'])\n",
    "dfA['perc_of_unit_sold'] = dfA['perc_of_unit_sold'].fillna(dfs2['Athletic Shoes'])\n",
    "dfp['Original_price'] = dfp['Original_price'].fillna(dfs1['Perfumes & Fragrances'])\n",
    "dfp['perc_of_unit_sold'] = dfp['perc_of_unit_sold'].fillna(dfs2['Perfumes & Fragrances'])\n",
    "dfS['Original_price'] = dfS['Original_price'].fillna(dfs1['Sportswear'])\n",
    "dfS['perc_of_unit_sold'] = dfS['perc_of_unit_sold'].fillna(dfs2['Sportswear'])\n",
    "dfC['perc_of_unit_sold'] = dfC['perc_of_unit_sold'].fillna(dfs2['Casual & Dress Shoes'])\n",
    "dfE['perc_of_unit_sold'] = dfE['perc_of_unit_sold'].fillna(dfs2['Eyewear'])\n",
    "dfWal['perc_of_unit_sold'] = dfWal['perc_of_unit_sold'].fillna(dfs2['Wallets'])\n",
    "dfw"
   ]
  },
  {
   "cell_type": "code",
   "execution_count": 227,
   "metadata": {},
   "outputs": [
    {
     "data": {
      "text/plain": [
       "Unnamed: 0           0\n",
       "category             0\n",
       "product              0\n",
       "Original_price       0\n",
       "price                0\n",
       "perc_of_unit_sold    0\n",
       "shpping_rate         0\n",
       "gender               0\n",
       "dtype: int64"
      ]
     },
     "execution_count": 227,
     "metadata": {},
     "output_type": "execute_result"
    }
   ],
   "source": [
    "dff = pd.concat([dfw,dfA,dfp,dfS,dfC,dfE,dfWal])\n",
    "dff['shpping_rate'] = dff['shpping_rate'].fillna(b)\n",
    "dff['gender'] = dff['shpping_rate'].fillna(a)\n",
    "dfix = dff.drop('rating', 1)\n",
    "dfix.isnull().sum()"
   ]
  },
  {
   "cell_type": "markdown",
   "metadata": {},
   "source": [
    "# EDA"
   ]
  },
  {
   "cell_type": "code",
   "execution_count": 228,
   "metadata": {},
   "outputs": [
    {
     "data": {
      "text/html": [
       "<div>\n",
       "<style scoped>\n",
       "    .dataframe tbody tr th:only-of-type {\n",
       "        vertical-align: middle;\n",
       "    }\n",
       "\n",
       "    .dataframe tbody tr th {\n",
       "        vertical-align: top;\n",
       "    }\n",
       "\n",
       "    .dataframe thead th {\n",
       "        text-align: right;\n",
       "    }\n",
       "</style>\n",
       "<table border=\"1\" class=\"dataframe\">\n",
       "  <thead>\n",
       "    <tr style=\"text-align: right;\">\n",
       "      <th></th>\n",
       "      <th>count</th>\n",
       "      <th>mean</th>\n",
       "      <th>std</th>\n",
       "      <th>min</th>\n",
       "      <th>25%</th>\n",
       "      <th>50%</th>\n",
       "      <th>75%</th>\n",
       "      <th>max</th>\n",
       "    </tr>\n",
       "  </thead>\n",
       "  <tbody>\n",
       "    <tr>\n",
       "      <th>Unnamed: 0</th>\n",
       "      <td>609.0</td>\n",
       "      <td>60.072250</td>\n",
       "      <td>47.287663</td>\n",
       "      <td>0.0</td>\n",
       "      <td>21.00</td>\n",
       "      <td>46.00</td>\n",
       "      <td>92.00</td>\n",
       "      <td>179.0</td>\n",
       "    </tr>\n",
       "    <tr>\n",
       "      <th>Original_price</th>\n",
       "      <td>609.0</td>\n",
       "      <td>860.552381</td>\n",
       "      <td>1766.570539</td>\n",
       "      <td>42.0</td>\n",
       "      <td>279.00</td>\n",
       "      <td>500.00</td>\n",
       "      <td>997.00</td>\n",
       "      <td>29970.0</td>\n",
       "    </tr>\n",
       "    <tr>\n",
       "      <th>price</th>\n",
       "      <td>609.0</td>\n",
       "      <td>339.434039</td>\n",
       "      <td>285.416406</td>\n",
       "      <td>21.4</td>\n",
       "      <td>140.98</td>\n",
       "      <td>262.49</td>\n",
       "      <td>444.99</td>\n",
       "      <td>3220.0</td>\n",
       "    </tr>\n",
       "    <tr>\n",
       "      <th>perc_of_unit_sold</th>\n",
       "      <td>609.0</td>\n",
       "      <td>57.426602</td>\n",
       "      <td>23.682911</td>\n",
       "      <td>2.0</td>\n",
       "      <td>42.00</td>\n",
       "      <td>60.00</td>\n",
       "      <td>75.00</td>\n",
       "      <td>99.0</td>\n",
       "    </tr>\n",
       "  </tbody>\n",
       "</table>\n",
       "</div>"
      ],
      "text/plain": [
       "                   count        mean          std   min     25%     50%  \\\n",
       "Unnamed: 0         609.0   60.072250    47.287663   0.0   21.00   46.00   \n",
       "Original_price     609.0  860.552381  1766.570539  42.0  279.00  500.00   \n",
       "price              609.0  339.434039   285.416406  21.4  140.98  262.49   \n",
       "perc_of_unit_sold  609.0   57.426602    23.682911   2.0   42.00   60.00   \n",
       "\n",
       "                      75%      max  \n",
       "Unnamed: 0          92.00    179.0  \n",
       "Original_price     997.00  29970.0  \n",
       "price              444.99   3220.0  \n",
       "perc_of_unit_sold   75.00     99.0  "
      ]
     },
     "execution_count": 228,
     "metadata": {},
     "output_type": "execute_result"
    }
   ],
   "source": [
    "dfix.describe().T"
   ]
  },
  {
   "cell_type": "code",
   "execution_count": 229,
   "metadata": {},
   "outputs": [
    {
     "data": {
      "text/plain": [
       "Text(0.5, 1.0, 'Heatmap Graph of Dataset')"
      ]
     },
     "execution_count": 229,
     "metadata": {},
     "output_type": "execute_result"
    },
    {
     "data": {
      "image/png": "[encoded data removed]",
      "text/plain": [
       "<Figure size 720x576 with 2 Axes>"
      ]
     },
     "metadata": {},
     "output_type": "display_data"
    }
   ],
   "source": [
    "plt.figure(figsize=(10, 8))\n",
    "sns.heatmap(dfix.corr(), cmap='bone', annot=True)\n",
    "plt.title('Heatmap Graph of Dataset', fontsize=20)"
   ]
  },
  {
   "cell_type": "markdown",
   "metadata": {},
   "source": [
    "#### Korelasi kuat terjadi antara price dengan original price\n",
    "#### Tidak ada hubungan yang cukup kuat antara original price dengan persentase penjualan"
   ]
  },
  {
   "cell_type": "markdown",
   "metadata": {},
   "source": [
    "#### Terbukti berdasarkan heatmap, korelasi antara original price dg persentase penjualan hanya 0.047"
   ]
  },
  {
   "cell_type": "code",
   "execution_count": 231,
   "metadata": {},
   "outputs": [
    {
     "name": "stdout",
     "output_type": "stream",
     "text": [
      "<class 'pandas.core.frame.DataFrame'>\n",
      "Int64Index: 609 entries, 429 to 428\n",
      "Data columns (total 8 columns):\n",
      " #   Column             Non-Null Count  Dtype  \n",
      "---  ------             --------------  -----  \n",
      " 0   Unnamed: 0         609 non-null    int64  \n",
      " 1   category           609 non-null    object \n",
      " 2   product            609 non-null    object \n",
      " 3   Original_price     609 non-null    float64\n",
      " 4   price              609 non-null    float64\n",
      " 5   perc_of_unit_sold  609 non-null    float64\n",
      " 6   shpping_rate       609 non-null    object \n",
      " 7   gender             609 non-null    object \n",
      "dtypes: float64(3), int64(1), object(4)\n",
      "memory usage: 42.8+ KB\n"
     ]
    }
   ],
   "source": [
    "dfix.info()"
   ]
  },
  {
   "cell_type": "markdown",
   "metadata": {},
   "source": [
    "==================================================================================================="
   ]
  },
  {
   "cell_type": "code",
   "execution_count": 233,
   "metadata": {},
   "outputs": [
    {
     "data": {
      "text/plain": [
       "array(['Watches', 'Athletic Shoes', 'Perfumes & Fragrances', 'Sportswear',\n",
       "       'Casual & Dress Shoes', 'Eyewear', 'Wallets'], dtype=object)"
      ]
     },
     "execution_count": 233,
     "metadata": {},
     "output_type": "execute_result"
    }
   ],
   "source": [
    "dfix['category'].unique()"
   ]
  },
  {
   "cell_type": "markdown",
   "metadata": {},
   "source": [
    "## Melihat Category produk yang persentase penjualan nya dibawah rata2 = 56.30 %"
   ]
  },
  {
   "cell_type": "code",
   "execution_count": 276,
   "metadata": {},
   "outputs": [
    {
     "data": {
      "text/plain": [
       "56.304311587930606"
      ]
     },
     "execution_count": 276,
     "metadata": {},
     "output_type": "execute_result"
    }
   ],
   "source": [
    "dfs2.mean()"
   ]
  },
  {
   "cell_type": "code",
   "execution_count": null,
   "metadata": {},
   "outputs": [],
   "source": [
    "new_index = list(np.arange(1,610))\n",
    "dfix['new_index'] = new_index\n",
    "dfix = dfix.set_index('new_index')\n",
    "dfix"
   ]
  },
  {
   "cell_type": "code",
   "execution_count": 274,
   "metadata": {},
   "outputs": [],
   "source": [
    "dfcategory = dfix.groupby('category')\n",
    "dfgender = dfix.groupby('gender')\n",
    "dfshipping = dfix.groupby('shpping_rate')"
   ]
  },
  {
   "cell_type": "code",
   "execution_count": 277,
   "metadata": {},
   "outputs": [
    {
     "data": {
      "text/html": [
       "<div>\n",
       "<style scoped>\n",
       "    .dataframe tbody tr th:only-of-type {\n",
       "        vertical-align: middle;\n",
       "    }\n",
       "\n",
       "    .dataframe tbody tr th {\n",
       "        vertical-align: top;\n",
       "    }\n",
       "\n",
       "    .dataframe thead th {\n",
       "        text-align: right;\n",
       "    }\n",
       "</style>\n",
       "<table border=\"1\" class=\"dataframe\">\n",
       "  <thead>\n",
       "    <tr style=\"text-align: right;\">\n",
       "      <th></th>\n",
       "      <th>Unnamed: 0</th>\n",
       "      <th>Original_price</th>\n",
       "      <th>price</th>\n",
       "      <th>perc_of_unit_sold</th>\n",
       "    </tr>\n",
       "    <tr>\n",
       "      <th>category</th>\n",
       "      <th></th>\n",
       "      <th></th>\n",
       "      <th></th>\n",
       "      <th></th>\n",
       "    </tr>\n",
       "  </thead>\n",
       "  <tbody>\n",
       "    <tr>\n",
       "      <th>Wallets</th>\n",
       "      <td>18.0</td>\n",
       "      <td>294.324324</td>\n",
       "      <td>151.856486</td>\n",
       "      <td>43.942857</td>\n",
       "    </tr>\n",
       "    <tr>\n",
       "      <th>Eyewear</th>\n",
       "      <td>76.5</td>\n",
       "      <td>797.995455</td>\n",
       "      <td>370.994026</td>\n",
       "      <td>48.307692</td>\n",
       "    </tr>\n",
       "    <tr>\n",
       "      <th>Sportswear</th>\n",
       "      <td>16.0</td>\n",
       "      <td>172.696970</td>\n",
       "      <td>99.590000</td>\n",
       "      <td>51.142857</td>\n",
       "    </tr>\n",
       "    <tr>\n",
       "      <th>Casual &amp; Dress Shoes</th>\n",
       "      <td>23.0</td>\n",
       "      <td>451.276596</td>\n",
       "      <td>279.379149</td>\n",
       "      <td>52.028571</td>\n",
       "    </tr>\n",
       "    <tr>\n",
       "      <th>Watches</th>\n",
       "      <td>89.5</td>\n",
       "      <td>1725.528333</td>\n",
       "      <td>541.343722</td>\n",
       "      <td>61.865772</td>\n",
       "    </tr>\n",
       "    <tr>\n",
       "      <th>Athletic Shoes</th>\n",
       "      <td>47.0</td>\n",
       "      <td>378.431579</td>\n",
       "      <td>256.004947</td>\n",
       "      <td>63.048780</td>\n",
       "    </tr>\n",
       "    <tr>\n",
       "      <th>Perfumes &amp; Fragrances</th>\n",
       "      <td>31.0</td>\n",
       "      <td>267.301587</td>\n",
       "      <td>91.808413</td>\n",
       "      <td>73.793651</td>\n",
       "    </tr>\n",
       "  </tbody>\n",
       "</table>\n",
       "</div>"
      ],
      "text/plain": [
       "                       Unnamed: 0  Original_price       price  \\\n",
       "category                                                        \n",
       "Wallets                      18.0      294.324324  151.856486   \n",
       "Eyewear                      76.5      797.995455  370.994026   \n",
       "Sportswear                   16.0      172.696970   99.590000   \n",
       "Casual & Dress Shoes         23.0      451.276596  279.379149   \n",
       "Watches                      89.5     1725.528333  541.343722   \n",
       "Athletic Shoes               47.0      378.431579  256.004947   \n",
       "Perfumes & Fragrances        31.0      267.301587   91.808413   \n",
       "\n",
       "                       perc_of_unit_sold  \n",
       "category                                  \n",
       "Wallets                        43.942857  \n",
       "Eyewear                        48.307692  \n",
       "Sportswear                     51.142857  \n",
       "Casual & Dress Shoes           52.028571  \n",
       "Watches                        61.865772  \n",
       "Athletic Shoes                 63.048780  \n",
       "Perfumes & Fragrances          73.793651  "
      ]
     },
     "execution_count": 277,
     "metadata": {},
     "output_type": "execute_result"
    }
   ],
   "source": [
    "m = dfcategory.mean().sort_values(by='perc_of_unit_sold')\n",
    "m"
   ]
  },
  {
   "cell_type": "markdown",
   "metadata": {},
   "source": [
    "##### Urutan kategory produk dengan persentase penjualan rendah - tinggi: Wallets, Eyewear, Sportswear, Casual & Dress Shoes, Watches, Athletic Shoes, Perfumes & Fragrances"
   ]
  },
  {
   "cell_type": "markdown",
   "metadata": {},
   "source": [
    "## Kesimpulan analisis"
   ]
  },
  {
   "cell_type": "markdown",
   "metadata": {},
   "source": [
    "### 1. Harus dilakukan peningkatan penjulan untuk kategory Wallets, Eyewear, Sportwear dan Casual Dress Shoes dengan cara memberikan promo bundling dengan category produk yang tinggi persentase penjualan\n",
    "- Wallets dengan Watches\n",
    "- Eyewear, Sportwear dengan Athtletic Shoes\n",
    "- Casual dress dengan Perfume\n",
    "\n",
    "### 2. Original price dan Price tidak terlalu berpengaruh terhadap Persentase penjualan"
   ]
  },
  {
   "cell_type": "code",
   "execution_count": null,
   "metadata": {},
   "outputs": [],
   "source": []
  }
 ],
 "metadata": {
  "kernelspec": {
   "display_name": "Python 3.8.3 64-bit",
   "language": "python",
   "name": "python38364bitf98a9d7598a340bdaa881acb74c38372"
  },
  "language_info": {
   "codemirror_mode": {
    "name": "ipython",
    "version": 3
   },
   "file_extension": ".py",
   "mimetype": "text/x-python",
   "name": "python",
   "nbconvert_exporter": "python",
   "pygments_lexer": "ipython3",
   "version": "3.8.3rc1"
  }
 },
 "nbformat": 4,
 "nbformat_minor": 4
}
