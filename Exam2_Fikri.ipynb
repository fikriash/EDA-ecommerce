{
 "cells": [
  {
   "cell_type": "markdown",
   "metadata": {},
   "source": [
    "## --------------------------------------------- Nama : Fikri Aziz S ---------------------------------------------\n",
    "## ----------------------------------------- Pelengkap Exam Modul 2 -----------------------------------------"
   ]
  },
  {
   "cell_type": "markdown",
   "metadata": {},
   "source": [
    "---------------------------------------------------------------------------------------------------------------------------------------"
   ]
  },
  {
   "cell_type": "markdown",
   "metadata": {},
   "source": [
    "### Untuk push github"
   ]
  },
  {
   "cell_type": "markdown",
   "metadata": {},
   "source": [
    "git init\n",
    "git add .\n",
    "git commit -m \"Exam-2\"\n",
    "git remote add origin https://github.com/fikriash/Exam_2_JCDS.git\n",
    "git push -u origin master"
   ]
  },
  {
   "cell_type": "markdown",
   "metadata": {},
   "source": [
    "### Kegunaan Jenis Grafik\n",
    "###### Grafik line (plt.plot) --> untuk time series\n",
    "###### Bar plot (plt.bar, plt.hist, sns.barplot, sns.boxplot, sns.countplot) --> Comparison misal antar gender\n",
    "###### Scatter Plot (plt.scatter, sns.stripplot) --> Persebaran data, Korelasi\n",
    "###### Pie Plot (plt.pie) --> untuk komposisi\n",
    "###### Boxplot (plt.boxplot, sns.boxplot, sns.swarmplot, sns.violinplot, sns.stripplot) --> persebaran data"
   ]
  },
  {
   "cell_type": "markdown",
   "metadata": {},
   "source": [
    "---------------------------------------------------------------------------------------------------------------------------------------"
   ]
  },
  {
   "cell_type": "markdown",
   "metadata": {},
   "source": [
    "## Latar Belakang Masalah\n",
    "\n",
    "###### Setiap category terdapat product-product yang persentase terjual nya masih dibawah rata-rata persentase penjualan per category nya\n"
   ]
  },
  {
   "cell_type": "markdown",
   "metadata": {},
   "source": [
    "## Tujuan EDA\n",
    "\n",
    "###### Mengetahui pengaruh diskon dan harga diskon terhadap persentase penjualan produk per category\n",
    "###### Meningkatkan persentase penjualan product terutama untuk produk dengan persentase penjualan di bawah rata-rata per category"
   ]
  },
  {
   "cell_type": "markdown",
   "metadata": {},
   "source": [
    "---------------------------------------------------------------------------------------------------------------------------------------"
   ]
  },
  {
   "cell_type": "markdown",
   "metadata": {},
   "source": [
    "# Import Package"
   ]
  },
  {
   "cell_type": "code",
   "execution_count": 34,
   "metadata": {},
   "outputs": [],
   "source": [
    "import numpy as np\n",
    "import pandas as pd\n",
    "import matplotlib.pyplot as plt\n",
    "import seaborn as sns\n",
    "%matplotlib inline"
   ]
  },
  {
   "cell_type": "markdown",
   "metadata": {},
   "source": [
    "---------------------------------------------------------------------------------------------------------------------------------------"
   ]
  },
  {
   "cell_type": "markdown",
   "metadata": {},
   "source": [
    "# Import Data"
   ]
  },
  {
   "cell_type": "code",
   "execution_count": 78,
   "metadata": {},
   "outputs": [
    {
     "data": {
      "text/html": [
       "<div>\n",
       "<style scoped>\n",
       "    .dataframe tbody tr th:only-of-type {\n",
       "        vertical-align: middle;\n",
       "    }\n",
       "\n",
       "    .dataframe tbody tr th {\n",
       "        vertical-align: top;\n",
       "    }\n",
       "\n",
       "    .dataframe thead th {\n",
       "        text-align: right;\n",
       "    }\n",
       "</style>\n",
       "<table border=\"1\" class=\"dataframe\">\n",
       "  <thead>\n",
       "    <tr style=\"text-align: right;\">\n",
       "      <th></th>\n",
       "      <th>Unnamed: 0</th>\n",
       "      <th>category</th>\n",
       "      <th>product</th>\n",
       "      <th>Original_price</th>\n",
       "      <th>price</th>\n",
       "      <th>perc_of_unit_sold</th>\n",
       "      <th>rating</th>\n",
       "      <th>shpping_rate</th>\n",
       "      <th>gender</th>\n",
       "    </tr>\n",
       "  </thead>\n",
       "  <tbody>\n",
       "    <tr>\n",
       "      <th>0</th>\n",
       "      <td>0</td>\n",
       "      <td>Athletic Shoes</td>\n",
       "      <td>Nike SB Check Solar Cnvs Skateboarding Shoes f...</td>\n",
       "      <td>299.0</td>\n",
       "      <td>211.48</td>\n",
       "      <td>94.0</td>\n",
       "      <td>100.0</td>\n",
       "      <td>FREE Shipping</td>\n",
       "      <td>men</td>\n",
       "    </tr>\n",
       "    <tr>\n",
       "      <th>1</th>\n",
       "      <td>1</td>\n",
       "      <td>Athletic Shoes</td>\n",
       "      <td>Nike Md Runner 2 Two-Tone Textile-Mesh Suede-A...</td>\n",
       "      <td>349.0</td>\n",
       "      <td>289.99</td>\n",
       "      <td>80.0</td>\n",
       "      <td>88.0</td>\n",
       "      <td>FREE Shipping</td>\n",
       "      <td>men</td>\n",
       "    </tr>\n",
       "    <tr>\n",
       "      <th>2</th>\n",
       "      <td>2</td>\n",
       "      <td>Athletic Shoes</td>\n",
       "      <td>Nike air Heights Sneaker for Women , Size 38 E...</td>\n",
       "      <td>419.0</td>\n",
       "      <td>337.48</td>\n",
       "      <td>77.0</td>\n",
       "      <td>NaN</td>\n",
       "      <td>FREE Shipping</td>\n",
       "      <td>women</td>\n",
       "    </tr>\n",
       "    <tr>\n",
       "      <th>3</th>\n",
       "      <td>3</td>\n",
       "      <td>Athletic Shoes</td>\n",
       "      <td>Nike Fitness Shoes For Men , 43 EU , Black</td>\n",
       "      <td>319.0</td>\n",
       "      <td>211.48</td>\n",
       "      <td>76.0</td>\n",
       "      <td>80.0</td>\n",
       "      <td>FREE Shipping</td>\n",
       "      <td>men</td>\n",
       "    </tr>\n",
       "    <tr>\n",
       "      <th>4</th>\n",
       "      <td>4</td>\n",
       "      <td>Athletic Shoes</td>\n",
       "      <td>adidas ASWEERUN Sneaker for Mens, Grey - Size ...</td>\n",
       "      <td>259.0</td>\n",
       "      <td>194.99</td>\n",
       "      <td>94.0</td>\n",
       "      <td>NaN</td>\n",
       "      <td>Eligible for FREE Shipping</td>\n",
       "      <td>men</td>\n",
       "    </tr>\n",
       "  </tbody>\n",
       "</table>\n",
       "</div>"
      ],
      "text/plain": [
       "   Unnamed: 0        category  \\\n",
       "0           0  Athletic Shoes   \n",
       "1           1  Athletic Shoes   \n",
       "2           2  Athletic Shoes   \n",
       "3           3  Athletic Shoes   \n",
       "4           4  Athletic Shoes   \n",
       "\n",
       "                                             product  Original_price   price  \\\n",
       "0  Nike SB Check Solar Cnvs Skateboarding Shoes f...           299.0  211.48   \n",
       "1  Nike Md Runner 2 Two-Tone Textile-Mesh Suede-A...           349.0  289.99   \n",
       "2  Nike air Heights Sneaker for Women , Size 38 E...           419.0  337.48   \n",
       "3         Nike Fitness Shoes For Men , 43 EU , Black           319.0  211.48   \n",
       "4  adidas ASWEERUN Sneaker for Mens, Grey - Size ...           259.0  194.99   \n",
       "\n",
       "   perc_of_unit_sold  rating                shpping_rate gender  \n",
       "0               94.0   100.0               FREE Shipping    men  \n",
       "1               80.0    88.0               FREE Shipping    men  \n",
       "2               77.0     NaN               FREE Shipping  women  \n",
       "3               76.0    80.0               FREE Shipping    men  \n",
       "4               94.0     NaN  Eligible for FREE Shipping    men  "
      ]
     },
     "execution_count": 78,
     "metadata": {},
     "output_type": "execute_result"
    }
   ],
   "source": [
    "data = pd.read_csv('ecommerce.csv')\n",
    "df = pd.DataFrame(data)\n",
    "dfs = df.copy() # Data sintetis\n",
    "dfs.head()"
   ]
  },
  {
   "cell_type": "markdown",
   "metadata": {},
   "source": [
    "---------------------------------------------------------------------------------------------------------------------------------------"
   ]
  },
  {
   "cell_type": "markdown",
   "metadata": {},
   "source": [
    "# Describe Data"
   ]
  },
  {
   "cell_type": "markdown",
   "metadata": {},
   "source": [
    "### Variabel\n",
    "\n",
    "- Unnamed : urutan nomer produk per category\n",
    "- Category : Kelompok produk\n",
    "- Product : Nama Produk\n",
    "- Original Price : Harga produk sebelum didiskon\n",
    "- Price : Harga setelah diskon\n",
    "- perc_of_unit_sold : Persentase penjualan produk\n",
    "- Shipping rate : tingkat pengiriman produk\n",
    "- Rating : Angka penilaian produk (1-10)\n",
    "- gender : jenis kelamin pembeli\n",
    "\n",
    "#### (Hipotesis) Feature-feature yang saling berhubungan dengan target (perc_of_unit_sold)\n",
    "\n",
    "1. Category\n",
    "2. Product\n",
    "3. Original price\n",
    "4. price\n",
    "5. Shipping rate"
   ]
  },
  {
   "cell_type": "code",
   "execution_count": 37,
   "metadata": {},
   "outputs": [
    {
     "name": "stdout",
     "output_type": "stream",
     "text": [
      "<class 'pandas.core.frame.DataFrame'>\n",
      "RangeIndex: 609 entries, 0 to 608\n",
      "Data columns (total 9 columns):\n",
      " #   Column             Non-Null Count  Dtype  \n",
      "---  ------             --------------  -----  \n",
      " 0   Unnamed: 0         609 non-null    int64  \n",
      " 1   category           609 non-null    object \n",
      " 2   product            609 non-null    object \n",
      " 3   Original_price     583 non-null    float64\n",
      " 4   price              609 non-null    float64\n",
      " 5   perc_of_unit_sold  522 non-null    float64\n",
      " 6   rating             427 non-null    float64\n",
      " 7   shpping_rate       567 non-null    object \n",
      " 8   gender             581 non-null    object \n",
      "dtypes: float64(4), int64(1), object(4)\n",
      "memory usage: 42.9+ KB\n"
     ]
    }
   ],
   "source": [
    "dfs.info()"
   ]
  },
  {
   "cell_type": "markdown",
   "metadata": {},
   "source": [
    "- Terdapat 609 data penjualan"
   ]
  },
  {
   "cell_type": "code",
   "execution_count": 83,
   "metadata": {},
   "outputs": [
    {
     "data": {
      "text/html": [
       "<div>\n",
       "<style scoped>\n",
       "    .dataframe tbody tr th:only-of-type {\n",
       "        vertical-align: middle;\n",
       "    }\n",
       "\n",
       "    .dataframe tbody tr th {\n",
       "        vertical-align: top;\n",
       "    }\n",
       "\n",
       "    .dataframe thead th {\n",
       "        text-align: right;\n",
       "    }\n",
       "</style>\n",
       "<table border=\"1\" class=\"dataframe\">\n",
       "  <thead>\n",
       "    <tr style=\"text-align: right;\">\n",
       "      <th></th>\n",
       "      <th>category</th>\n",
       "      <th>product</th>\n",
       "      <th>Harga asli</th>\n",
       "      <th>Harga diskon</th>\n",
       "      <th>% penjualan</th>\n",
       "      <th>rating</th>\n",
       "      <th>shipping</th>\n",
       "      <th>gender</th>\n",
       "    </tr>\n",
       "    <tr>\n",
       "      <th>index</th>\n",
       "      <th></th>\n",
       "      <th></th>\n",
       "      <th></th>\n",
       "      <th></th>\n",
       "      <th></th>\n",
       "      <th></th>\n",
       "      <th></th>\n",
       "      <th></th>\n",
       "    </tr>\n",
       "  </thead>\n",
       "  <tbody>\n",
       "    <tr>\n",
       "      <th>0</th>\n",
       "      <td>Athletic Shoes</td>\n",
       "      <td>Nike SB Check Solar Cnvs Skateboarding Shoes f...</td>\n",
       "      <td>299.0</td>\n",
       "      <td>211.48</td>\n",
       "      <td>94.0</td>\n",
       "      <td>100.0</td>\n",
       "      <td>FREE Shipping</td>\n",
       "      <td>men</td>\n",
       "    </tr>\n",
       "    <tr>\n",
       "      <th>1</th>\n",
       "      <td>Athletic Shoes</td>\n",
       "      <td>Nike Md Runner 2 Two-Tone Textile-Mesh Suede-A...</td>\n",
       "      <td>349.0</td>\n",
       "      <td>289.99</td>\n",
       "      <td>80.0</td>\n",
       "      <td>88.0</td>\n",
       "      <td>FREE Shipping</td>\n",
       "      <td>men</td>\n",
       "    </tr>\n",
       "    <tr>\n",
       "      <th>2</th>\n",
       "      <td>Athletic Shoes</td>\n",
       "      <td>Nike air Heights Sneaker for Women , Size 38 E...</td>\n",
       "      <td>419.0</td>\n",
       "      <td>337.48</td>\n",
       "      <td>77.0</td>\n",
       "      <td>NaN</td>\n",
       "      <td>FREE Shipping</td>\n",
       "      <td>women</td>\n",
       "    </tr>\n",
       "    <tr>\n",
       "      <th>3</th>\n",
       "      <td>Athletic Shoes</td>\n",
       "      <td>Nike Fitness Shoes For Men , 43 EU , Black</td>\n",
       "      <td>319.0</td>\n",
       "      <td>211.48</td>\n",
       "      <td>76.0</td>\n",
       "      <td>80.0</td>\n",
       "      <td>FREE Shipping</td>\n",
       "      <td>men</td>\n",
       "    </tr>\n",
       "    <tr>\n",
       "      <th>4</th>\n",
       "      <td>Athletic Shoes</td>\n",
       "      <td>adidas ASWEERUN Sneaker for Mens, Grey - Size ...</td>\n",
       "      <td>259.0</td>\n",
       "      <td>194.99</td>\n",
       "      <td>94.0</td>\n",
       "      <td>NaN</td>\n",
       "      <td>Eligible for FREE Shipping</td>\n",
       "      <td>men</td>\n",
       "    </tr>\n",
       "  </tbody>\n",
       "</table>\n",
       "</div>"
      ],
      "text/plain": [
       "             category                                            product  \\\n",
       "index                                                                      \n",
       "0      Athletic Shoes  Nike SB Check Solar Cnvs Skateboarding Shoes f...   \n",
       "1      Athletic Shoes  Nike Md Runner 2 Two-Tone Textile-Mesh Suede-A...   \n",
       "2      Athletic Shoes  Nike air Heights Sneaker for Women , Size 38 E...   \n",
       "3      Athletic Shoes         Nike Fitness Shoes For Men , 43 EU , Black   \n",
       "4      Athletic Shoes  adidas ASWEERUN Sneaker for Mens, Grey - Size ...   \n",
       "\n",
       "       Harga asli  Harga diskon  % penjualan  rating  \\\n",
       "index                                                  \n",
       "0           299.0        211.48         94.0   100.0   \n",
       "1           349.0        289.99         80.0    88.0   \n",
       "2           419.0        337.48         77.0     NaN   \n",
       "3           319.0        211.48         76.0    80.0   \n",
       "4           259.0        194.99         94.0     NaN   \n",
       "\n",
       "                         shipping gender  \n",
       "index                                     \n",
       "0                   FREE Shipping    men  \n",
       "1                   FREE Shipping    men  \n",
       "2                   FREE Shipping  women  \n",
       "3                   FREE Shipping    men  \n",
       "4      Eligible for FREE Shipping    men  "
      ]
     },
     "execution_count": 83,
     "metadata": {},
     "output_type": "execute_result"
    }
   ],
   "source": [
    "# dfs = dfs.drop(columns='Unnamed: 0')\n",
    "# dfs['index'] = np.arange(0, 609)\n",
    "# dfs = dfs.set_index('index') # Set kolom index jadi index data frame\n",
    "dfs = dfs.rename(columns={\"Original_price\":\"Harga asli\", \"price\":\"Harga diskon\", \"perc_of_unit_sold\":\"% penjualan\", \"shpping_rate\":\"shipping\"}) # Rename Kolom agar lebih mudah akses\n",
    "dfs.head()"
   ]
  },
  {
   "cell_type": "code",
   "execution_count": 247,
   "metadata": {},
   "outputs": [
    {
     "data": {
      "text/html": [
       "<div>\n",
       "<style scoped>\n",
       "    .dataframe tbody tr th:only-of-type {\n",
       "        vertical-align: middle;\n",
       "    }\n",
       "\n",
       "    .dataframe tbody tr th {\n",
       "        vertical-align: top;\n",
       "    }\n",
       "\n",
       "    .dataframe thead th {\n",
       "        text-align: right;\n",
       "    }\n",
       "</style>\n",
       "<table border=\"1\" class=\"dataframe\">\n",
       "  <thead>\n",
       "    <tr style=\"text-align: right;\">\n",
       "      <th></th>\n",
       "      <th>count</th>\n",
       "      <th>mean</th>\n",
       "      <th>std</th>\n",
       "      <th>min</th>\n",
       "      <th>25%</th>\n",
       "      <th>50%</th>\n",
       "      <th>75%</th>\n",
       "      <th>max</th>\n",
       "    </tr>\n",
       "  </thead>\n",
       "  <tbody>\n",
       "    <tr>\n",
       "      <th>Harga asli</th>\n",
       "      <td>522.0</td>\n",
       "      <td>804.145738</td>\n",
       "      <td>1519.307691</td>\n",
       "      <td>42.00</td>\n",
       "      <td>263.0000</td>\n",
       "      <td>464.000</td>\n",
       "      <td>945.0000</td>\n",
       "      <td>29970.00</td>\n",
       "    </tr>\n",
       "    <tr>\n",
       "      <th>Harga diskon</th>\n",
       "      <td>522.0</td>\n",
       "      <td>323.047146</td>\n",
       "      <td>257.394534</td>\n",
       "      <td>21.40</td>\n",
       "      <td>130.5025</td>\n",
       "      <td>254.235</td>\n",
       "      <td>443.2375</td>\n",
       "      <td>2115.49</td>\n",
       "    </tr>\n",
       "    <tr>\n",
       "      <th>% penjualan</th>\n",
       "      <td>522.0</td>\n",
       "      <td>57.678161</td>\n",
       "      <td>25.434947</td>\n",
       "      <td>2.00</td>\n",
       "      <td>36.2500</td>\n",
       "      <td>60.000</td>\n",
       "      <td>79.0000</td>\n",
       "      <td>99.00</td>\n",
       "    </tr>\n",
       "    <tr>\n",
       "      <th>rating</th>\n",
       "      <td>387.0</td>\n",
       "      <td>87.850129</td>\n",
       "      <td>11.361615</td>\n",
       "      <td>20.00</td>\n",
       "      <td>82.0000</td>\n",
       "      <td>88.000</td>\n",
       "      <td>96.0000</td>\n",
       "      <td>100.00</td>\n",
       "    </tr>\n",
       "    <tr>\n",
       "      <th>Diskon</th>\n",
       "      <td>522.0</td>\n",
       "      <td>480.989435</td>\n",
       "      <td>1373.677610</td>\n",
       "      <td>0.01</td>\n",
       "      <td>96.1850</td>\n",
       "      <td>216.450</td>\n",
       "      <td>484.1350</td>\n",
       "      <td>27854.51</td>\n",
       "    </tr>\n",
       "  </tbody>\n",
       "</table>\n",
       "</div>"
      ],
      "text/plain": [
       "              count        mean          std    min       25%      50%  \\\n",
       "Harga asli    522.0  804.145738  1519.307691  42.00  263.0000  464.000   \n",
       "Harga diskon  522.0  323.047146   257.394534  21.40  130.5025  254.235   \n",
       "% penjualan   522.0   57.678161    25.434947   2.00   36.2500   60.000   \n",
       "rating        387.0   87.850129    11.361615  20.00   82.0000   88.000   \n",
       "Diskon        522.0  480.989435  1373.677610   0.01   96.1850  216.450   \n",
       "\n",
       "                   75%       max  \n",
       "Harga asli    945.0000  29970.00  \n",
       "Harga diskon  443.2375   2115.49  \n",
       "% penjualan    79.0000     99.00  \n",
       "rating         96.0000    100.00  \n",
       "Diskon        484.1350  27854.51  "
      ]
     },
     "execution_count": 247,
     "metadata": {},
     "output_type": "execute_result"
    }
   ],
   "source": [
    "dfs.describe().T"
   ]
  },
  {
   "cell_type": "code",
   "execution_count": 248,
   "metadata": {},
   "outputs": [
    {
     "data": {
      "text/html": [
       "<div>\n",
       "<style scoped>\n",
       "    .dataframe tbody tr th:only-of-type {\n",
       "        vertical-align: middle;\n",
       "    }\n",
       "\n",
       "    .dataframe tbody tr th {\n",
       "        vertical-align: top;\n",
       "    }\n",
       "\n",
       "    .dataframe thead th {\n",
       "        text-align: right;\n",
       "    }\n",
       "</style>\n",
       "<table border=\"1\" class=\"dataframe\">\n",
       "  <thead>\n",
       "    <tr style=\"text-align: right;\">\n",
       "      <th></th>\n",
       "      <th>count</th>\n",
       "      <th>unique</th>\n",
       "      <th>top</th>\n",
       "      <th>freq</th>\n",
       "    </tr>\n",
       "  </thead>\n",
       "  <tbody>\n",
       "    <tr>\n",
       "      <th>category</th>\n",
       "      <td>522</td>\n",
       "      <td>7</td>\n",
       "      <td>Watches</td>\n",
       "      <td>149</td>\n",
       "    </tr>\n",
       "    <tr>\n",
       "      <th>product</th>\n",
       "      <td>522</td>\n",
       "      <td>518</td>\n",
       "      <td>Polaroid Sunglasses for Unisex , Blue</td>\n",
       "      <td>2</td>\n",
       "    </tr>\n",
       "    <tr>\n",
       "      <th>shipping</th>\n",
       "      <td>522</td>\n",
       "      <td>2</td>\n",
       "      <td>FREE Shipping</td>\n",
       "      <td>318</td>\n",
       "    </tr>\n",
       "    <tr>\n",
       "      <th>gender</th>\n",
       "      <td>522</td>\n",
       "      <td>3</td>\n",
       "      <td>men</td>\n",
       "      <td>311</td>\n",
       "    </tr>\n",
       "  </tbody>\n",
       "</table>\n",
       "</div>"
      ],
      "text/plain": [
       "         count unique                                    top freq\n",
       "category   522      7                                Watches  149\n",
       "product    522    518  Polaroid Sunglasses for Unisex , Blue    2\n",
       "shipping   522      2                          FREE Shipping  318\n",
       "gender     522      3                                    men  311"
      ]
     },
     "execution_count": 248,
     "metadata": {},
     "output_type": "execute_result"
    }
   ],
   "source": [
    "dfs.describe(include='O').T"
   ]
  },
  {
   "cell_type": "code",
   "execution_count": 101,
   "metadata": {},
   "outputs": [
    {
     "data": {
      "text/html": [
       "<div>\n",
       "<style scoped>\n",
       "    .dataframe tbody tr th:only-of-type {\n",
       "        vertical-align: middle;\n",
       "    }\n",
       "\n",
       "    .dataframe tbody tr th {\n",
       "        vertical-align: top;\n",
       "    }\n",
       "\n",
       "    .dataframe thead th {\n",
       "        text-align: right;\n",
       "    }\n",
       "</style>\n",
       "<table border=\"1\" class=\"dataframe\">\n",
       "  <thead>\n",
       "    <tr style=\"text-align: right;\">\n",
       "      <th></th>\n",
       "      <th>category</th>\n",
       "      <th>product</th>\n",
       "      <th>Harga asli</th>\n",
       "      <th>Harga diskon</th>\n",
       "      <th>% penjualan</th>\n",
       "      <th>rating</th>\n",
       "      <th>shipping</th>\n",
       "      <th>gender</th>\n",
       "    </tr>\n",
       "    <tr>\n",
       "      <th>index</th>\n",
       "      <th></th>\n",
       "      <th></th>\n",
       "      <th></th>\n",
       "      <th></th>\n",
       "      <th></th>\n",
       "      <th></th>\n",
       "      <th></th>\n",
       "      <th></th>\n",
       "    </tr>\n",
       "  </thead>\n",
       "  <tbody>\n",
       "    <tr>\n",
       "      <th>122</th>\n",
       "      <td>Casual &amp; Dress Shoes</td>\n",
       "      <td>Lacoste Casual Shoe for Men Size 44 EU - White</td>\n",
       "      <td>359.0</td>\n",
       "      <td>254.49</td>\n",
       "      <td>83.0</td>\n",
       "      <td>100.0</td>\n",
       "      <td>FREE Shipping</td>\n",
       "      <td>men</td>\n",
       "    </tr>\n",
       "    <tr>\n",
       "      <th>134</th>\n",
       "      <td>Casual &amp; Dress Shoes</td>\n",
       "      <td>Lacoste Casual Shoe for Men Size 44 EU - White</td>\n",
       "      <td>469.0</td>\n",
       "      <td>333.98</td>\n",
       "      <td>50.0</td>\n",
       "      <td>NaN</td>\n",
       "      <td>FREE Shipping</td>\n",
       "      <td>men</td>\n",
       "    </tr>\n",
       "    <tr>\n",
       "      <th>136</th>\n",
       "      <td>Casual &amp; Dress Shoes</td>\n",
       "      <td>Lacoste Casual Shoe for Men Size 44 EU - White</td>\n",
       "      <td>499.0</td>\n",
       "      <td>349.99</td>\n",
       "      <td>NaN</td>\n",
       "      <td>NaN</td>\n",
       "      <td>FREE Shipping</td>\n",
       "      <td>men</td>\n",
       "    </tr>\n",
       "    <tr>\n",
       "      <th>95</th>\n",
       "      <td>Casual &amp; Dress Shoes</td>\n",
       "      <td>Lacoste Casual Shoe For Men Size 45 EU - White</td>\n",
       "      <td>519.0</td>\n",
       "      <td>295.98</td>\n",
       "      <td>14.0</td>\n",
       "      <td>NaN</td>\n",
       "      <td>FREE Shipping</td>\n",
       "      <td>men</td>\n",
       "    </tr>\n",
       "    <tr>\n",
       "      <th>121</th>\n",
       "      <td>Casual &amp; Dress Shoes</td>\n",
       "      <td>Lacoste Casual Shoe For Men Size 45 EU - White</td>\n",
       "      <td>449.0</td>\n",
       "      <td>258.49</td>\n",
       "      <td>NaN</td>\n",
       "      <td>NaN</td>\n",
       "      <td>FREE Shipping</td>\n",
       "      <td>men</td>\n",
       "    </tr>\n",
       "    <tr>\n",
       "      <th>149</th>\n",
       "      <td>Eyewear</td>\n",
       "      <td>Polaroid Sunglasses for Unisex , Blue</td>\n",
       "      <td>250.0</td>\n",
       "      <td>180.48</td>\n",
       "      <td>46.0</td>\n",
       "      <td>NaN</td>\n",
       "      <td>Eligible for FREE Shipping</td>\n",
       "      <td>Unisex</td>\n",
       "    </tr>\n",
       "    <tr>\n",
       "      <th>244</th>\n",
       "      <td>Eyewear</td>\n",
       "      <td>Polaroid Sunglasses for Unisex , Blue</td>\n",
       "      <td>250.0</td>\n",
       "      <td>149.98</td>\n",
       "      <td>85.0</td>\n",
       "      <td>NaN</td>\n",
       "      <td>Eligible for FREE Shipping</td>\n",
       "      <td>Unisex</td>\n",
       "    </tr>\n",
       "    <tr>\n",
       "      <th>451</th>\n",
       "      <td>Watches</td>\n",
       "      <td>Hugo Boss Casual Round Watch for Men</td>\n",
       "      <td>1285.0</td>\n",
       "      <td>407.99</td>\n",
       "      <td>3.0</td>\n",
       "      <td>NaN</td>\n",
       "      <td>FREE Shipping</td>\n",
       "      <td>men</td>\n",
       "    </tr>\n",
       "    <tr>\n",
       "      <th>481</th>\n",
       "      <td>Watches</td>\n",
       "      <td>Hugo Boss Casual Round Watch for Men</td>\n",
       "      <td>1285.0</td>\n",
       "      <td>412.48</td>\n",
       "      <td>9.0</td>\n",
       "      <td>NaN</td>\n",
       "      <td>FREE Shipping</td>\n",
       "      <td>men</td>\n",
       "    </tr>\n",
       "    <tr>\n",
       "      <th>99</th>\n",
       "      <td>Casual &amp; Dress Shoes</td>\n",
       "      <td>Lacoste Casual Shoe for Men Size 42 EU - Black</td>\n",
       "      <td>539.0</td>\n",
       "      <td>309.98</td>\n",
       "      <td>87.0</td>\n",
       "      <td>100.0</td>\n",
       "      <td>FREE Shipping</td>\n",
       "      <td>men</td>\n",
       "    </tr>\n",
       "    <tr>\n",
       "      <th>140</th>\n",
       "      <td>Casual &amp; Dress Shoes</td>\n",
       "      <td>Lacoste Casual Shoe for Men Size 42 EU - Black</td>\n",
       "      <td>379.0</td>\n",
       "      <td>270.48</td>\n",
       "      <td>50.0</td>\n",
       "      <td>NaN</td>\n",
       "      <td>FREE Shipping</td>\n",
       "      <td>men</td>\n",
       "    </tr>\n",
       "    <tr>\n",
       "      <th>135</th>\n",
       "      <td>Casual &amp; Dress Shoes</td>\n",
       "      <td>Lacoste Casual Shoe for Men Size 44 EU - Navy</td>\n",
       "      <td>409.0</td>\n",
       "      <td>286.48</td>\n",
       "      <td>NaN</td>\n",
       "      <td>NaN</td>\n",
       "      <td>FREE Shipping</td>\n",
       "      <td>men</td>\n",
       "    </tr>\n",
       "    <tr>\n",
       "      <th>138</th>\n",
       "      <td>Casual &amp; Dress Shoes</td>\n",
       "      <td>Lacoste Casual Shoe for Men Size 44 EU - Navy</td>\n",
       "      <td>379.0</td>\n",
       "      <td>260.99</td>\n",
       "      <td>33.0</td>\n",
       "      <td>NaN</td>\n",
       "      <td>FREE Shipping</td>\n",
       "      <td>men</td>\n",
       "    </tr>\n",
       "  </tbody>\n",
       "</table>\n",
       "</div>"
      ],
      "text/plain": [
       "                   category                                         product  \\\n",
       "index                                                                         \n",
       "122    Casual & Dress Shoes  Lacoste Casual Shoe for Men Size 44 EU - White   \n",
       "134    Casual & Dress Shoes  Lacoste Casual Shoe for Men Size 44 EU - White   \n",
       "136    Casual & Dress Shoes  Lacoste Casual Shoe for Men Size 44 EU - White   \n",
       "95     Casual & Dress Shoes  Lacoste Casual Shoe For Men Size 45 EU - White   \n",
       "121    Casual & Dress Shoes  Lacoste Casual Shoe For Men Size 45 EU - White   \n",
       "149                 Eyewear           Polaroid Sunglasses for Unisex , Blue   \n",
       "244                 Eyewear           Polaroid Sunglasses for Unisex , Blue   \n",
       "451                 Watches            Hugo Boss Casual Round Watch for Men   \n",
       "481                 Watches            Hugo Boss Casual Round Watch for Men   \n",
       "99     Casual & Dress Shoes  Lacoste Casual Shoe for Men Size 42 EU - Black   \n",
       "140    Casual & Dress Shoes  Lacoste Casual Shoe for Men Size 42 EU - Black   \n",
       "135    Casual & Dress Shoes   Lacoste Casual Shoe for Men Size 44 EU - Navy   \n",
       "138    Casual & Dress Shoes   Lacoste Casual Shoe for Men Size 44 EU - Navy   \n",
       "\n",
       "       Harga asli  Harga diskon  % penjualan  rating  \\\n",
       "index                                                  \n",
       "122         359.0        254.49         83.0   100.0   \n",
       "134         469.0        333.98         50.0     NaN   \n",
       "136         499.0        349.99          NaN     NaN   \n",
       "95          519.0        295.98         14.0     NaN   \n",
       "121         449.0        258.49          NaN     NaN   \n",
       "149         250.0        180.48         46.0     NaN   \n",
       "244         250.0        149.98         85.0     NaN   \n",
       "451        1285.0        407.99          3.0     NaN   \n",
       "481        1285.0        412.48          9.0     NaN   \n",
       "99          539.0        309.98         87.0   100.0   \n",
       "140         379.0        270.48         50.0     NaN   \n",
       "135         409.0        286.48          NaN     NaN   \n",
       "138         379.0        260.99         33.0     NaN   \n",
       "\n",
       "                         shipping  gender  \n",
       "index                                      \n",
       "122                 FREE Shipping     men  \n",
       "134                 FREE Shipping     men  \n",
       "136                 FREE Shipping     men  \n",
       "95                  FREE Shipping     men  \n",
       "121                 FREE Shipping     men  \n",
       "149    Eligible for FREE Shipping  Unisex  \n",
       "244    Eligible for FREE Shipping  Unisex  \n",
       "451                 FREE Shipping     men  \n",
       "481                 FREE Shipping     men  \n",
       "99                  FREE Shipping     men  \n",
       "140                 FREE Shipping     men  \n",
       "135                 FREE Shipping     men  \n",
       "138                 FREE Shipping     men  "
      ]
     },
     "execution_count": 101,
     "metadata": {},
     "output_type": "execute_result"
    }
   ],
   "source": [
    "a = dfs[dfs['product']=='Lacoste Casual Shoe for Men Size 44 EU - White']\n",
    "b = dfs[dfs['product']=='Lacoste Casual Shoe For Men Size 45 EU - White']\n",
    "c = dfs[dfs['product']=='Polaroid Sunglasses for Unisex , Blue']\n",
    "d = dfs[dfs['product']=='Hugo Boss Casual Round Watch for Men']\n",
    "e = dfs[dfs['product']=='Lacoste Casual Shoe for Men Size 42 EU - Black']\n",
    "f = dfs[dfs['product']=='Lacoste Casual Shoe for Men Size 44 EU - Navy']\n",
    "dfproduksama = pd.concat([a,b,c,d,e,f])\n",
    "dfproduksama"
   ]
  },
  {
   "cell_type": "markdown",
   "metadata": {},
   "source": [
    "- Terdapat beberapa produk yang sama memiliki frequensi lebih dari 1, akan tetapi harga asli dan harga diskon nya berbeda. Hal ini mungkin menunjukan bahwa produk tersebut berasal dari ecommerce yang berbeda"
   ]
  },
  {
   "cell_type": "markdown",
   "metadata": {},
   "source": [
    "---------------------------------------------------------------------------------------------------------------------------------------"
   ]
  },
  {
   "cell_type": "markdown",
   "metadata": {},
   "source": [
    "## Unique setiap kolom"
   ]
  },
  {
   "cell_type": "code",
   "execution_count": 105,
   "metadata": {},
   "outputs": [
    {
     "data": {
      "text/plain": [
       "['Athletic Shoes',\n",
       " 'Casual & Dress Shoes',\n",
       " 'Eyewear',\n",
       " 'Perfumes & Fragrances',\n",
       " 'Sportswear',\n",
       " 'Wallets',\n",
       " 'Watches']"
      ]
     },
     "execution_count": 105,
     "metadata": {},
     "output_type": "execute_result"
    }
   ],
   "source": [
    "dfs['category'].unique().tolist()"
   ]
  },
  {
   "cell_type": "code",
   "execution_count": null,
   "metadata": {},
   "outputs": [],
   "source": [
    "# dfs['product'].unique().tolist() # TIDAK DI TAMPILKAN KARENA 602 unique itu terlalu banyak untuk di show"
   ]
  },
  {
   "cell_type": "code",
   "execution_count": 108,
   "metadata": {},
   "outputs": [
    {
     "data": {
      "text/plain": [
       "['FREE Shipping', 'Eligible for FREE Shipping', nan]"
      ]
     },
     "execution_count": 108,
     "metadata": {},
     "output_type": "execute_result"
    }
   ],
   "source": [
    "dfs['shipping'].unique().tolist()"
   ]
  },
  {
   "cell_type": "code",
   "execution_count": 109,
   "metadata": {},
   "outputs": [
    {
     "data": {
      "text/plain": [
       "['men', 'women', nan, 'Unisex']"
      ]
     },
     "execution_count": 109,
     "metadata": {},
     "output_type": "execute_result"
    }
   ],
   "source": [
    "dfs['gender'].unique().tolist()"
   ]
  },
  {
   "cell_type": "markdown",
   "metadata": {},
   "source": [
    "---------------------------------------------------------------------------------------------------------------------------------------"
   ]
  },
  {
   "cell_type": "markdown",
   "metadata": {},
   "source": [
    "# Cek Missing Value"
   ]
  },
  {
   "cell_type": "code",
   "execution_count": 74,
   "metadata": {},
   "outputs": [
    {
     "data": {
      "text/plain": [
       "category          0\n",
       "product           0\n",
       "Harga asli       26\n",
       "Harga diskon      0\n",
       "% penjualan      87\n",
       "rating          182\n",
       "shipping         42\n",
       "gender           28\n",
       "dtype: int64"
      ]
     },
     "execution_count": 74,
     "metadata": {},
     "output_type": "execute_result"
    }
   ],
   "source": [
    "dfs.isnull().sum()"
   ]
  },
  {
   "cell_type": "markdown",
   "metadata": {},
   "source": [
    "## Missing Value in percent"
   ]
  },
  {
   "cell_type": "code",
   "execution_count": 75,
   "metadata": {},
   "outputs": [
    {
     "data": {
      "text/plain": [
       "category         0.000000\n",
       "product          0.000000\n",
       "Harga asli       4.269294\n",
       "Harga diskon     0.000000\n",
       "% penjualan     14.285714\n",
       "rating          29.885057\n",
       "shipping         6.896552\n",
       "gender           4.597701\n",
       "dtype: float64"
      ]
     },
     "execution_count": 75,
     "metadata": {},
     "output_type": "execute_result"
    }
   ],
   "source": [
    "(dfs.isnull().sum())/ len(dfs.index) * 100"
   ]
  },
  {
   "cell_type": "markdown",
   "metadata": {},
   "source": [
    "## Gambaran data missing value"
   ]
  },
  {
   "cell_type": "code",
   "execution_count": 76,
   "metadata": {},
   "outputs": [
    {
     "data": {
      "text/html": [
       "<div>\n",
       "<style scoped>\n",
       "    .dataframe tbody tr th:only-of-type {\n",
       "        vertical-align: middle;\n",
       "    }\n",
       "\n",
       "    .dataframe tbody tr th {\n",
       "        vertical-align: top;\n",
       "    }\n",
       "\n",
       "    .dataframe thead th {\n",
       "        text-align: right;\n",
       "    }\n",
       "</style>\n",
       "<table border=\"1\" class=\"dataframe\">\n",
       "  <thead>\n",
       "    <tr style=\"text-align: right;\">\n",
       "      <th></th>\n",
       "      <th>category</th>\n",
       "      <th>product</th>\n",
       "      <th>Harga asli</th>\n",
       "      <th>Harga diskon</th>\n",
       "      <th>% penjualan</th>\n",
       "      <th>rating</th>\n",
       "      <th>shipping</th>\n",
       "      <th>gender</th>\n",
       "    </tr>\n",
       "    <tr>\n",
       "      <th>index</th>\n",
       "      <th></th>\n",
       "      <th></th>\n",
       "      <th></th>\n",
       "      <th></th>\n",
       "      <th></th>\n",
       "      <th></th>\n",
       "      <th></th>\n",
       "      <th></th>\n",
       "    </tr>\n",
       "  </thead>\n",
       "  <tbody>\n",
       "    <tr>\n",
       "      <th>572</th>\n",
       "      <td>Watches</td>\n",
       "      <td>Olivia Burton Marble Florals Dial Watch for Wo...</td>\n",
       "      <td>805.0</td>\n",
       "      <td>276.49</td>\n",
       "      <td>40.0</td>\n",
       "      <td>NaN</td>\n",
       "      <td>FREE Shipping</td>\n",
       "      <td>women</td>\n",
       "    </tr>\n",
       "    <tr>\n",
       "      <th>574</th>\n",
       "      <td>Watches</td>\n",
       "      <td>Lacoste Casual Watch For Women Analog Silicone...</td>\n",
       "      <td>895.0</td>\n",
       "      <td>388.00</td>\n",
       "      <td>40.0</td>\n",
       "      <td>NaN</td>\n",
       "      <td>FREE Shipping</td>\n",
       "      <td>women</td>\n",
       "    </tr>\n",
       "    <tr>\n",
       "      <th>578</th>\n",
       "      <td>Watches</td>\n",
       "      <td>Akribos XXIV Men's Classic Bubble Crystal 3 In...</td>\n",
       "      <td>NaN</td>\n",
       "      <td>260.48</td>\n",
       "      <td>93.0</td>\n",
       "      <td>94.0</td>\n",
       "      <td>FREE Shipping</td>\n",
       "      <td>men</td>\n",
       "    </tr>\n",
       "    <tr>\n",
       "      <th>597</th>\n",
       "      <td>Watches</td>\n",
       "      <td>Scuderia Ferrari Men's Grey  Dial Color Rubber...</td>\n",
       "      <td>1045.0</td>\n",
       "      <td>543.98</td>\n",
       "      <td>31.0</td>\n",
       "      <td>NaN</td>\n",
       "      <td>FREE Shipping</td>\n",
       "      <td>men</td>\n",
       "    </tr>\n",
       "    <tr>\n",
       "      <th>608</th>\n",
       "      <td>Watches</td>\n",
       "      <td>Tissot Dress Watch For Women Analog Stainless ...</td>\n",
       "      <td>1740.0</td>\n",
       "      <td>960.49</td>\n",
       "      <td>20.0</td>\n",
       "      <td>NaN</td>\n",
       "      <td>FREE Shipping</td>\n",
       "      <td>women</td>\n",
       "    </tr>\n",
       "  </tbody>\n",
       "</table>\n",
       "</div>"
      ],
      "text/plain": [
       "      category                                            product  Harga asli  \\\n",
       "index                                                                           \n",
       "572    Watches  Olivia Burton Marble Florals Dial Watch for Wo...       805.0   \n",
       "574    Watches  Lacoste Casual Watch For Women Analog Silicone...       895.0   \n",
       "578    Watches  Akribos XXIV Men's Classic Bubble Crystal 3 In...         NaN   \n",
       "597    Watches  Scuderia Ferrari Men's Grey  Dial Color Rubber...      1045.0   \n",
       "608    Watches  Tissot Dress Watch For Women Analog Stainless ...      1740.0   \n",
       "\n",
       "       Harga diskon  % penjualan  rating       shipping gender  \n",
       "index                                                           \n",
       "572          276.49         40.0     NaN  FREE Shipping  women  \n",
       "574          388.00         40.0     NaN  FREE Shipping  women  \n",
       "578          260.48         93.0    94.0  FREE Shipping    men  \n",
       "597          543.98         31.0     NaN  FREE Shipping    men  \n",
       "608          960.49         20.0     NaN  FREE Shipping  women  "
      ]
     },
     "execution_count": 76,
     "metadata": {},
     "output_type": "execute_result"
    }
   ],
   "source": [
    "dfnan = dfs[dfs.isna().any(axis=1)]\n",
    "dfnan.tail(5)"
   ]
  },
  {
   "cell_type": "markdown",
   "metadata": {},
   "source": [
    "---------------------------------------------------------------------------------------------------------------------------------------"
   ]
  },
  {
   "cell_type": "markdown",
   "metadata": {},
   "source": [
    "# Handling Missing Value"
   ]
  },
  {
   "cell_type": "markdown",
   "metadata": {},
   "source": [
    "## 1. Target (% penjualan)\n",
    "\n",
    "Untuk kolom target, nan value langsung di drop karena persentase null nya hanya 14% dari 609 data (85 data)"
   ]
  },
  {
   "cell_type": "code",
   "execution_count": 147,
   "metadata": {},
   "outputs": [
    {
     "data": {
      "text/plain": [
       "category          0\n",
       "product           0\n",
       "Harga asli       14\n",
       "Harga diskon      0\n",
       "% penjualan       0\n",
       "rating          135\n",
       "shipping         15\n",
       "gender           22\n",
       "dtype: int64"
      ]
     },
     "execution_count": 147,
     "metadata": {},
     "output_type": "execute_result"
    }
   ],
   "source": [
    "dfs = dfs[dfs['% penjualan'].notna()]\n",
    "dfs.isnull().sum()"
   ]
  },
  {
   "cell_type": "markdown",
   "metadata": {},
   "source": [
    "## 2. Harga Asli\n",
    "\n",
    "Untuk handling nan Harga asli, dimana harga asli berkaitan erat dengan category product dan harga diskon, maka nan Harga asli akan difillna dengan cara menambahkan harga diskon dengan median diskon sesuai category product. Digunakan median karena terdapat outlier pada persebaran data feature diskon dan Harga diskon."
   ]
  },
  {
   "cell_type": "code",
   "execution_count": 151,
   "metadata": {},
   "outputs": [],
   "source": [
    "dfs['Diskon'] = dfs['Harga asli'] - dfs['Harga diskon']"
   ]
  },
  {
   "cell_type": "markdown",
   "metadata": {},
   "source": [
    "##### - Persebaran data diskon dfs"
   ]
  },
  {
   "cell_type": "code",
   "execution_count": 156,
   "metadata": {},
   "outputs": [
    {
     "data": {
      "text/plain": [
       "<matplotlib.axes._subplots.AxesSubplot at 0x1f4ed033910>"
      ]
     },
     "execution_count": 156,
     "metadata": {},
     "output_type": "execute_result"
    },
    {
     "data": {
      "image/png": "[encoded data removed]",
      "text/plain": [
       "<Figure size 432x288 with 1 Axes>"
      ]
     },
     "metadata": {
      "needs_background": "light"
     },
     "output_type": "display_data"
    }
   ],
   "source": [
    "sns.boxplot(x=dfs['Diskon'])"
   ]
  },
  {
   "cell_type": "code",
   "execution_count": 159,
   "metadata": {},
   "outputs": [
    {
     "data": {
      "text/plain": [
       "category\n",
       "Athletic Shoes            96.010\n",
       "Casual & Dress Shoes     187.010\n",
       "Eyewear                  391.260\n",
       "Perfumes & Fragrances    183.430\n",
       "Sportswear                58.520\n",
       "Wallets                   81.510\n",
       "Watches                  507.005\n",
       "Name: Diskon, dtype: float64"
      ]
     },
     "execution_count": 159,
     "metadata": {},
     "output_type": "execute_result"
    }
   ],
   "source": [
    "dfsdiskon = dfs.groupby(['category'])['Diskon'].median()\n",
    "dfsdiskon"
   ]
  },
  {
   "cell_type": "markdown",
   "metadata": {},
   "source": [
    "- Category Athletic fillna Harga asli"
   ]
  },
  {
   "cell_type": "code",
   "execution_count": null,
   "metadata": {},
   "outputs": [],
   "source": [
    "# dfs['Harga asli'][(dfs['category']== 'Athletic Shoes') & (dfs['Harga asli'].isna())] = dfs['Harga asli'][(dfs['category']== 'Athletic Shoes') & (dfs['Harga asli'].isna())].fillna(dfs['Athletic Shoes']+dfsdiskon['Athletic Shoes'])"
   ]
  },
  {
   "cell_type": "code",
   "execution_count": null,
   "metadata": {},
   "outputs": [],
   "source": [
    "# dfs['Diskon'][(dfs['category']== 'Athletic Shoes') & (dfs['Harga asli'].isna())] = dfs['Diskon'][(dfs['category']== 'Athletic Shoes') & (dfs['Harga asli'].isna())].fillna(dfsdiskon['Athletic Shoes'])"
   ]
  },
  {
   "cell_type": "markdown",
   "metadata": {},
   "source": [
    "- Category Perfumes & Fragrances Harga asli"
   ]
  },
  {
   "cell_type": "code",
   "execution_count": null,
   "metadata": {},
   "outputs": [],
   "source": [
    "# dfs['Harga asli'][(dfs['category']== 'Perfumes & Fragrances') & (dfs['Harga asli'].isna())] = dfs['Harga asli'][(dfs['category']== 'Perfumes & Fragrances') & (dfs['Harga asli'].isna())].fillna(dfshargadiskon['Perfumes & Fragrances']+dfsdiskon['Perfumes & Fragrances'])"
   ]
  },
  {
   "cell_type": "code",
   "execution_count": null,
   "metadata": {},
   "outputs": [],
   "source": [
    "# dfs['Diskon'][(dfs['category']== 'Perfumes & Fragrances') & (dfs['Harga asli'].isna())] = dfs['Diskon'][(dfs['category']== 'Perfumes & Fragrances') & (dfs['Harga asli'].isna())].fillna(dfsdiskon['Perfumes & Fragrances'])"
   ]
  },
  {
   "cell_type": "markdown",
   "metadata": {},
   "source": [
    "- Category Sportswear Harga asli"
   ]
  },
  {
   "cell_type": "code",
   "execution_count": null,
   "metadata": {},
   "outputs": [],
   "source": [
    "# dfs['Harga asli'][(dfs['category']== 'Sportswear') & (dfs['Harga asli'].isna())] = dfs['Harga asli'][(dfs['category']== 'Sportswear') & (dfs['Harga asli'].isna())].fillna(dfshargadiskon['Sportswear']+dfsdiskon['Sportswear'])"
   ]
  },
  {
   "cell_type": "code",
   "execution_count": null,
   "metadata": {},
   "outputs": [],
   "source": [
    "# dfs['Diskon'][(dfs['category']== 'Sportswear') & (dfs['Harga asli'].isna())] = dfs['Diskon'][(dfs['category']== 'Sportswear') & (dfs['Harga asli'].isna())].fillna(dfsdiskon['Sportswear'])"
   ]
  },
  {
   "cell_type": "markdown",
   "metadata": {},
   "source": [
    "- Category Watches Harga asli"
   ]
  },
  {
   "cell_type": "code",
   "execution_count": null,
   "metadata": {},
   "outputs": [],
   "source": [
    "# dfs['Harga asli'][(dfs['category']== 'Watches') & (dfs['Harga asli'].isna())] = dfs['Harga asli'][(dfs['category']== 'Watches') & (dfs['Harga asli'].isna())].fillna(dfshargadiskon['Watches']+dfsdiskon['Watches'])"
   ]
  },
  {
   "cell_type": "code",
   "execution_count": null,
   "metadata": {},
   "outputs": [],
   "source": [
    "# dfs['Diskon'][(dfs['category']== 'Watches') & (dfs['Harga asli'].isna())] = dfs['Diskon'][(dfs['category']== 'Watches') & (dfs['Harga asli'].isna())].fillna(dfsdiskon['Watches'])"
   ]
  },
  {
   "cell_type": "markdown",
   "metadata": {},
   "source": [
    "##### Aku salah isi fillna ternyata mas, jadi 8 code di atas yg aku komen harusnya yg ditambahin bukan median harga diskon dg median diskon, tapi harga diskon per produk + median diskon harusnya. Karena sebenernya harga diskonnya mah sudah ada. Jadi ini di bawah aku define ulang si. InsyaAllah datanya bener\n",
    "\n",
    "##### Maksudnya udah bener, jadi Harga asli yang nan itu aku fillna dengan cara (median diskon per category + harga diskon per produknya) "
   ]
  },
  {
   "cell_type": "code",
   "execution_count": null,
   "metadata": {},
   "outputs": [],
   "source": [
    "dfs['Harga asli'][(dfs['category']=='Athletic Shoes')&(dfs['Diskon'].isna())] = dfs['Harga diskon'][(dfs['category']=='Athletic Shoes')&(dfs['Diskon'].isna())] + dfsdiskon['Athletic Shoes']\n",
    "dfs['Harga asli'][(dfs['category']=='Sportswear')&(dfs['Diskon'].isna())] = dfs['Harga diskon'][(dfs['category']=='Sportswear')&(dfs['Diskon'].isna())] + dfsdiskon['Sportswear']\n",
    "dfs['Harga asli'][(dfs['category']=='Perfumes & Fragrances')&(dfs['Diskon'].isna())] = dfs['Harga diskon'][(dfs['category']=='Perfumes & Fragrances')&(dfs['Diskon'].isna())] + dfsdiskon['Perfumes & Fragrances']\n",
    "dfs['Harga asli'][(dfs['category']=='Watches')&(dfs['Diskon'].isna())] = dfs['Harga diskon'][(dfs['category']=='Watches')&(dfs['Diskon'].isna())] + dfsdiskon['Watches']"
   ]
  },
  {
   "cell_type": "code",
   "execution_count": null,
   "metadata": {},
   "outputs": [],
   "source": [
    "dfs['Diskon'][(dfs['category']=='Athletic Shoes')&(dfs['Diskon'].isna())] = dfsdiskon['Athletic Shoes']\n",
    "dfs['Diskon'][(dfs['category']=='Sportswear')&(dfs['Diskon'].isna())] = dfsdiskon['Sportswear']\n",
    "dfs['Diskon'][(dfs['category']=='Perfumes & Fragrances')&(dfs['Diskon'].isna())] = dfsdiskon['Perfumes & Fragrances']\n",
    "dfs['Diskon'][(dfs['category']=='Watches')&(dfs['Diskon'].isna())] = dfsdiskon['Watches']"
   ]
  },
  {
   "cell_type": "markdown",
   "metadata": {},
   "source": [
    "## 3. Shipping Rate\n",
    "\n",
    "Untuk handling shipping rate digunakan fillna dg method modus shipping rate terbanyak"
   ]
  },
  {
   "cell_type": "code",
   "execution_count": 228,
   "metadata": {},
   "outputs": [
    {
     "data": {
      "text/plain": [
       "'FREE Shipping'"
      ]
     },
     "execution_count": 228,
     "metadata": {},
     "output_type": "execute_result"
    }
   ],
   "source": [
    "shippingmodus = dfs['shipping'].mode()\n",
    "shippingmodus[0]"
   ]
  },
  {
   "cell_type": "code",
   "execution_count": null,
   "metadata": {},
   "outputs": [],
   "source": [
    "dfs['shipping'][dfs['shipping'].isna()] = dfs['shipping'][dfs['shipping'].isna()].fillna(shippingmodus[0])"
   ]
  },
  {
   "cell_type": "code",
   "execution_count": 230,
   "metadata": {},
   "outputs": [
    {
     "data": {
      "text/plain": [
       "Series([], Name: shipping, dtype: object)"
      ]
     },
     "execution_count": 230,
     "metadata": {},
     "output_type": "execute_result"
    }
   ],
   "source": [
    "dfs['shipping'][dfs['shipping'].isna()]"
   ]
  },
  {
   "cell_type": "markdown",
   "metadata": {},
   "source": [
    "## 4. Gender\n",
    "\n",
    "Untuk handling gender digunakan fillna dg method modus gender"
   ]
  },
  {
   "cell_type": "code",
   "execution_count": null,
   "metadata": {},
   "outputs": [],
   "source": [
    "dfs[dfs['gender'].isna()]"
   ]
  },
  {
   "cell_type": "code",
   "execution_count": 238,
   "metadata": {},
   "outputs": [
    {
     "data": {
      "text/plain": [
       "'men'"
      ]
     },
     "execution_count": 238,
     "metadata": {},
     "output_type": "execute_result"
    }
   ],
   "source": [
    "gendermodus = dfs['gender'].mode()\n",
    "gendermodus[0]"
   ]
  },
  {
   "cell_type": "code",
   "execution_count": null,
   "metadata": {},
   "outputs": [],
   "source": [
    "dfs['gender'][dfs['gender'].isna()] = dfs['gender'][dfs['gender'].isna()].fillna(gendermodus[0])"
   ]
  },
  {
   "cell_type": "markdown",
   "metadata": {},
   "source": [
    "## 5. Rating\n",
    "Dikarenakan rating tidak terlalu berhubungan dengan % penjualan, maka kolom rating di drop"
   ]
  },
  {
   "cell_type": "code",
   "execution_count": 249,
   "metadata": {},
   "outputs": [],
   "source": [
    "dfs.drop('rating', axis=1, inplace=True)"
   ]
  },
  {
   "cell_type": "code",
   "execution_count": 251,
   "metadata": {},
   "outputs": [
    {
     "data": {
      "text/plain": [
       "category        0\n",
       "product         0\n",
       "Harga asli      0\n",
       "Harga diskon    0\n",
       "% penjualan     0\n",
       "shipping        0\n",
       "gender          0\n",
       "Diskon          0\n",
       "dtype: int64"
      ]
     },
     "execution_count": 251,
     "metadata": {},
     "output_type": "execute_result"
    }
   ],
   "source": [
    "dfs.isnull().sum()"
   ]
  },
  {
   "cell_type": "markdown",
   "metadata": {},
   "source": [
    "---------------------------------------------------------------------------------------------------------------------------------------"
   ]
  },
  {
   "cell_type": "markdown",
   "metadata": {},
   "source": [
    "# EDA"
   ]
  },
  {
   "cell_type": "code",
   "execution_count": 252,
   "metadata": {},
   "outputs": [
    {
     "data": {
      "text/plain": [
       "Text(0.5, 1.0, 'Heatmap Graph of Dataset')"
      ]
     },
     "execution_count": 252,
     "metadata": {},
     "output_type": "execute_result"
    },
    {
     "data": {
      "image/png": "[encoded data removed]",
      "text/plain": [
       "<Figure size 720x576 with 2 Axes>"
      ]
     },
     "metadata": {
      "needs_background": "light"
     },
     "output_type": "display_data"
    }
   ],
   "source": [
    "plt.figure(figsize=(10, 8))\n",
    "sns.heatmap(dfs.corr(), cmap='bone', annot=True)\n",
    "plt.title('Heatmap Graph of Dataset', fontsize=20)"
   ]
  },
  {
   "cell_type": "markdown",
   "metadata": {},
   "source": [
    "## 1. Mengetahui pengaruh diskon terhadap persentase penjualan produk per category"
   ]
  },
  {
   "cell_type": "code",
   "execution_count": 295,
   "metadata": {},
   "outputs": [
    {
     "data": {
      "text/plain": [
       "0    507.005\n",
       "dtype: float64"
      ]
     },
     "execution_count": 295,
     "metadata": {},
     "output_type": "execute_result"
    }
   ],
   "source": [
    "dfs['Diskon'].mode()"
   ]
  },
  {
   "cell_type": "code",
   "execution_count": 321,
   "metadata": {},
   "outputs": [
    {
     "data": {
      "text/plain": [
       "<Figure size 864x216 with 0 Axes>"
      ]
     },
     "metadata": {},
     "output_type": "display_data"
    },
    {
     "data": {
      "image/png": "[encoded data removed]",
      "text/plain": [
       "<Figure size 515.85x360 with 1 Axes>"
      ]
     },
     "metadata": {},
     "output_type": "display_data"
    }
   ],
   "source": [
    "plt.figure(figsize=(12,3))\n",
    "sns.lmplot(x=\"Diskon\", y=\"% penjualan\", data=dfs, hue='category', palette=\"muted\")\n",
    "plt.show()"
   ]
  },
  {
   "cell_type": "markdown",
   "metadata": {},
   "source": [
    "### Insight 1\n",
    "\n",
    "Kecenderungan pengaruh diskon terhadap persentase penjualan ialah positif, akan tetapi berdasarkan grafik terlihat bahwa pengaruhnya tidak terlalu kuat. Menurut website berikut https://smallbusiness.chron.com/advantages-offering-discounts-business-25765.html, diskon dapat menambah potensi terjualnya produk pada suatu toko. Akan tetapi tidak menjamin meningkatkan persentase penjualan secara signifikan"
   ]
  },
  {
   "cell_type": "code",
   "execution_count": 317,
   "metadata": {},
   "outputs": [
    {
     "data": {
      "image/png": "[encoded data removed]",
      "text/plain": [
       "<Figure size 515.85x360 with 1 Axes>"
      ]
     },
     "metadata": {},
     "output_type": "display_data"
    }
   ],
   "source": [
    "sns.lmplot(x=\"Harga diskon\", y=\"% penjualan\", data=dfs, hue='category', palette=\"muted\")\n",
    "plt.show()"
   ]
  },
  {
   "cell_type": "markdown",
   "metadata": {},
   "source": [
    "### Insight 2\n",
    "\n",
    "Diskon besar pengaruhnya terhadap harga jual. Kemudian, berdasarkan grafik, pengaruh harga produk per category setelah didiskon juga memiliki pengaruh yang tidak terlalu signifikan."
   ]
  },
  {
   "cell_type": "markdown",
   "metadata": {},
   "source": [
    "## 2. Meningkatkan persentase penjualan produk per category"
   ]
  },
  {
   "cell_type": "code",
   "execution_count": 330,
   "metadata": {},
   "outputs": [
    {
     "data": {
      "text/html": [
       "<div>\n",
       "<style scoped>\n",
       "    .dataframe tbody tr th:only-of-type {\n",
       "        vertical-align: middle;\n",
       "    }\n",
       "\n",
       "    .dataframe tbody tr th {\n",
       "        vertical-align: top;\n",
       "    }\n",
       "\n",
       "    .dataframe thead th {\n",
       "        text-align: right;\n",
       "    }\n",
       "</style>\n",
       "<table border=\"1\" class=\"dataframe\">\n",
       "  <thead>\n",
       "    <tr style=\"text-align: right;\">\n",
       "      <th></th>\n",
       "      <th>% penjualan</th>\n",
       "    </tr>\n",
       "    <tr>\n",
       "      <th>category</th>\n",
       "      <th></th>\n",
       "    </tr>\n",
       "  </thead>\n",
       "  <tbody>\n",
       "    <tr>\n",
       "      <th>Athletic Shoes</th>\n",
       "      <td>63.048780</td>\n",
       "    </tr>\n",
       "    <tr>\n",
       "      <th>Casual &amp; Dress Shoes</th>\n",
       "      <td>52.028571</td>\n",
       "    </tr>\n",
       "    <tr>\n",
       "      <th>Eyewear</th>\n",
       "      <td>48.307692</td>\n",
       "    </tr>\n",
       "    <tr>\n",
       "      <th>Perfumes &amp; Fragrances</th>\n",
       "      <td>73.793651</td>\n",
       "    </tr>\n",
       "    <tr>\n",
       "      <th>Sportswear</th>\n",
       "      <td>51.142857</td>\n",
       "    </tr>\n",
       "    <tr>\n",
       "      <th>Wallets</th>\n",
       "      <td>43.942857</td>\n",
       "    </tr>\n",
       "    <tr>\n",
       "      <th>Watches</th>\n",
       "      <td>61.865772</td>\n",
       "    </tr>\n",
       "  </tbody>\n",
       "</table>\n",
       "</div>"
      ],
      "text/plain": [
       "                       % penjualan\n",
       "category                          \n",
       "Athletic Shoes           63.048780\n",
       "Casual & Dress Shoes     52.028571\n",
       "Eyewear                  48.307692\n",
       "Perfumes & Fragrances    73.793651\n",
       "Sportswear               51.142857\n",
       "Wallets                  43.942857\n",
       "Watches                  61.865772"
      ]
     },
     "execution_count": 330,
     "metadata": {},
     "output_type": "execute_result"
    }
   ],
   "source": [
    "a = dfs.groupby(['category'])['% penjualan'].mean()\n",
    "a = pd.DataFrame(a)\n",
    "a"
   ]
  },
  {
   "cell_type": "code",
   "execution_count": 335,
   "metadata": {},
   "outputs": [
    {
     "data": {
      "text/plain": [
       "56.304311587930606"
      ]
     },
     "execution_count": 335,
     "metadata": {},
     "output_type": "execute_result"
    }
   ],
   "source": [
    "a['% penjualan'].mean()"
   ]
  },
  {
   "cell_type": "code",
   "execution_count": 280,
   "metadata": {},
   "outputs": [
    {
     "data": {
      "image/png": "[encoded data removed]",
      "text/plain": [
       "<Figure size 720x360 with 1 Axes>"
      ]
     },
     "metadata": {
      "needs_background": "light"
     },
     "output_type": "display_data"
    }
   ],
   "source": [
    "f, ax1 = plt.subplots(figsize=(10, 5), sharex=True)\n",
    "\n",
    "x = dfs['category'].unique().tolist()\n",
    "y1 = a[:]['% penjualan']\n",
    "sns.barplot(x=x, y=y1, palette=\"rocket\", ax=ax1)\n",
    "ax1.set_ylabel(\"% penjualan\")\n",
    "ax1.set_title('% Rata-rata Penjualan per Category', size = 15)\n",
    "ax1.set_xticklabels(ax1.get_xticklabels(), rotation=45)\n",
    "plt.show()"
   ]
  },
  {
   "cell_type": "markdown",
   "metadata": {},
   "source": [
    "### Insight 3\n",
    "\n",
    "Top 3 Category product dengan persentase rata-rata penjualan tertinggi\n",
    "\n",
    "1. Parfume & Fragrances (73.79 %)\n",
    "2. Athletic Shoes (63.05 %)\n",
    "3. Watches (61.87 %)"
   ]
  },
  {
   "cell_type": "markdown",
   "metadata": {},
   "source": [
    "### Insight 4\n",
    "\n",
    "Daftar Category product dengan persentase di bawah rata-rata persentase penjualan (56.30 %)\n",
    "\n",
    "1. Casual & Dress Shoes (52.03 %)\n",
    "2. Sportswear (51.14 %)\n",
    "3. Eyewear (48.31 %)\n",
    "4. Wallets (43.94 %)"
   ]
  },
  {
   "cell_type": "markdown",
   "metadata": {},
   "source": [
    "---------------------------------------------------------------------------------------------------------------------------------------"
   ]
  },
  {
   "cell_type": "markdown",
   "metadata": {},
   "source": [
    "## Kesimpulan analisis"
   ]
  },
  {
   "cell_type": "markdown",
   "metadata": {},
   "source": [
    "##### 1. Diskon dan Harga setelah diskon memiliki pengaruh yang kecil terhadap persentase penjualan. Oleh karena itu diperlukan sedikit peningkatan diskon produk atau penurunan sedikit harga diskon agar dapat meningkatkan persentase penjualan product\n",
    "\n",
    "##### 2. Harus dilakukan peningkatan penjulan untuk kategory Casual & Dress Shoes, Sportwear, Eyewear, dan Wallets dengan cara membuat segmentasi dan memberikan promo bundling dengan category produk yang tinggi persentase penjualan nya.\n",
    "\n",
    "- Wallets dengan Perfume & Fragrances\n",
    "- Sportswear dengan Athtletic Shoes\n",
    "- Watches dengan Casual dress Shoes dan Eyewear"
   ]
  }
 ],
 "metadata": {
  "kernelspec": {
   "display_name": "Python 3.8.3 64-bit",
   "language": "python",
   "name": "python38364bitf98a9d7598a340bdaa881acb74c38372"
  },
  "language_info": {
   "codemirror_mode": {
    "name": "ipython",
    "version": 3
   },
   "file_extension": ".py",
   "mimetype": "text/x-python",
   "name": "python",
   "nbconvert_exporter": "python",
   "pygments_lexer": "ipython3",
   "version": "3.8.3rc1"
  }
 },
 "nbformat": 4,
 "nbformat_minor": 4
}
