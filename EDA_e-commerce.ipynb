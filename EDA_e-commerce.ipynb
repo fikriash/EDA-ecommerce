{
 "cells": [
  {
   "cell_type": "markdown",
   "metadata": {},
   "source": [
    "---------------------------------------------------------------------------------------------------------------------------------------"
   ]
  },
  {
   "cell_type": "markdown",
   "metadata": {},
   "source": [
    "## Latar Belakang Masalah\n",
    "\n",
    "###### Setiap category terdapat product-product yang persentase terjual nya masih dibawah rata-rata persentase penjualan per category nya\n"
   ]
  },
  {
   "cell_type": "markdown",
   "metadata": {},
   "source": [
    "## Tujuan EDA\n",
    "\n",
    "###### Mengetahui pengaruh diskon dan harga diskon terhadap persentase penjualan produk per category\n",
    "###### Meningkatkan persentase penjualan product terutama untuk produk dengan persentase penjualan di bawah rata-rata per category"
   ]
  },
  {
   "cell_type": "markdown",
   "metadata": {},
   "source": [
    "---------------------------------------------------------------------------------------------------------------------------------------"
   ]
  },
  {
   "cell_type": "markdown",
   "metadata": {},
   "source": [
    "# Import Package"
   ]
  },
  {
   "cell_type": "code",
   "execution_count": 1,
   "metadata": {},
   "outputs": [],
   "source": [
    "import numpy as np\n",
    "import pandas as pd\n",
    "import matplotlib.pyplot as plt\n",
    "import seaborn as sns\n",
    "%matplotlib inline"
   ]
  },
  {
   "cell_type": "markdown",
   "metadata": {},
   "source": [
    "---------------------------------------------------------------------------------------------------------------------------------------"
   ]
  },
  {
   "cell_type": "markdown",
   "metadata": {},
   "source": [
    "# Import Data"
   ]
  },
  {
   "cell_type": "code",
   "execution_count": 2,
   "metadata": {},
   "outputs": [
    {
     "data": {
      "text/html": [
       "<div>\n",
       "<style scoped>\n",
       "    .dataframe tbody tr th:only-of-type {\n",
       "        vertical-align: middle;\n",
       "    }\n",
       "\n",
       "    .dataframe tbody tr th {\n",
       "        vertical-align: top;\n",
       "    }\n",
       "\n",
       "    .dataframe thead th {\n",
       "        text-align: right;\n",
       "    }\n",
       "</style>\n",
       "<table border=\"1\" class=\"dataframe\">\n",
       "  <thead>\n",
       "    <tr style=\"text-align: right;\">\n",
       "      <th></th>\n",
       "      <th>Unnamed: 0</th>\n",
       "      <th>category</th>\n",
       "      <th>product</th>\n",
       "      <th>Original_price</th>\n",
       "      <th>price</th>\n",
       "      <th>perc_of_unit_sold</th>\n",
       "      <th>rating</th>\n",
       "      <th>shpping_rate</th>\n",
       "      <th>gender</th>\n",
       "    </tr>\n",
       "  </thead>\n",
       "  <tbody>\n",
       "    <tr>\n",
       "      <th>0</th>\n",
       "      <td>0</td>\n",
       "      <td>Athletic Shoes</td>\n",
       "      <td>Nike SB Check Solar Cnvs Skateboarding Shoes f...</td>\n",
       "      <td>299.0</td>\n",
       "      <td>211.48</td>\n",
       "      <td>94.0</td>\n",
       "      <td>100.0</td>\n",
       "      <td>FREE Shipping</td>\n",
       "      <td>men</td>\n",
       "    </tr>\n",
       "    <tr>\n",
       "      <th>1</th>\n",
       "      <td>1</td>\n",
       "      <td>Athletic Shoes</td>\n",
       "      <td>Nike Md Runner 2 Two-Tone Textile-Mesh Suede-A...</td>\n",
       "      <td>349.0</td>\n",
       "      <td>289.99</td>\n",
       "      <td>80.0</td>\n",
       "      <td>88.0</td>\n",
       "      <td>FREE Shipping</td>\n",
       "      <td>men</td>\n",
       "    </tr>\n",
       "    <tr>\n",
       "      <th>2</th>\n",
       "      <td>2</td>\n",
       "      <td>Athletic Shoes</td>\n",
       "      <td>Nike air Heights Sneaker for Women , Size 38 E...</td>\n",
       "      <td>419.0</td>\n",
       "      <td>337.48</td>\n",
       "      <td>77.0</td>\n",
       "      <td>NaN</td>\n",
       "      <td>FREE Shipping</td>\n",
       "      <td>women</td>\n",
       "    </tr>\n",
       "    <tr>\n",
       "      <th>3</th>\n",
       "      <td>3</td>\n",
       "      <td>Athletic Shoes</td>\n",
       "      <td>Nike Fitness Shoes For Men , 43 EU , Black</td>\n",
       "      <td>319.0</td>\n",
       "      <td>211.48</td>\n",
       "      <td>76.0</td>\n",
       "      <td>80.0</td>\n",
       "      <td>FREE Shipping</td>\n",
       "      <td>men</td>\n",
       "    </tr>\n",
       "    <tr>\n",
       "      <th>4</th>\n",
       "      <td>4</td>\n",
       "      <td>Athletic Shoes</td>\n",
       "      <td>adidas ASWEERUN Sneaker for Mens, Grey - Size ...</td>\n",
       "      <td>259.0</td>\n",
       "      <td>194.99</td>\n",
       "      <td>94.0</td>\n",
       "      <td>NaN</td>\n",
       "      <td>Eligible for FREE Shipping</td>\n",
       "      <td>men</td>\n",
       "    </tr>\n",
       "  </tbody>\n",
       "</table>\n",
       "</div>"
      ],
      "text/plain": [
       "   Unnamed: 0        category  \\\n",
       "0           0  Athletic Shoes   \n",
       "1           1  Athletic Shoes   \n",
       "2           2  Athletic Shoes   \n",
       "3           3  Athletic Shoes   \n",
       "4           4  Athletic Shoes   \n",
       "\n",
       "                                             product  Original_price   price  \\\n",
       "0  Nike SB Check Solar Cnvs Skateboarding Shoes f...           299.0  211.48   \n",
       "1  Nike Md Runner 2 Two-Tone Textile-Mesh Suede-A...           349.0  289.99   \n",
       "2  Nike air Heights Sneaker for Women , Size 38 E...           419.0  337.48   \n",
       "3         Nike Fitness Shoes For Men , 43 EU , Black           319.0  211.48   \n",
       "4  adidas ASWEERUN Sneaker for Mens, Grey - Size ...           259.0  194.99   \n",
       "\n",
       "   perc_of_unit_sold  rating                shpping_rate gender  \n",
       "0               94.0   100.0               FREE Shipping    men  \n",
       "1               80.0    88.0               FREE Shipping    men  \n",
       "2               77.0     NaN               FREE Shipping  women  \n",
       "3               76.0    80.0               FREE Shipping    men  \n",
       "4               94.0     NaN  Eligible for FREE Shipping    men  "
      ]
     },
     "execution_count": 2,
     "metadata": {},
     "output_type": "execute_result"
    }
   ],
   "source": [
    "data = pd.read_csv('ecommerce.csv')\n",
    "df = pd.DataFrame(data)\n",
    "dfs = df.copy() # Data sintetis\n",
    "dfs.head()"
   ]
  },
  {
   "cell_type": "markdown",
   "metadata": {},
   "source": [
    "---------------------------------------------------------------------------------------------------------------------------------------"
   ]
  },
  {
   "cell_type": "markdown",
   "metadata": {},
   "source": [
    "# Describe Data"
   ]
  },
  {
   "cell_type": "markdown",
   "metadata": {},
   "source": [
    "### Variabel\n",
    "\n",
    "- Unnamed : urutan nomer produk per category\n",
    "- Category : Kelompok produk\n",
    "- Product : Nama Produk\n",
    "- Original Price : Harga produk sebelum didiskon\n",
    "- Price : Harga setelah diskon\n",
    "- perc_of_unit_sold : Persentase penjualan produk\n",
    "- Shipping rate : tingkat pengiriman produk\n",
    "- Rating : Angka penilaian produk (1-10)\n",
    "- gender : jenis kelamin pembeli\n",
    "\n",
    "#### (Hipotesis) Feature-feature yang saling berhubungan dengan target (perc_of_unit_sold)\n",
    "\n",
    "1. Category\n",
    "2. Product\n",
    "3. Original price\n",
    "4. price\n",
    "5. Shipping rate"
   ]
  },
  {
   "cell_type": "code",
   "execution_count": 3,
   "metadata": {},
   "outputs": [
    {
     "name": "stdout",
     "output_type": "stream",
     "text": [
      "<class 'pandas.core.frame.DataFrame'>\n",
      "RangeIndex: 609 entries, 0 to 608\n",
      "Data columns (total 9 columns):\n",
      " #   Column             Non-Null Count  Dtype  \n",
      "---  ------             --------------  -----  \n",
      " 0   Unnamed: 0         609 non-null    int64  \n",
      " 1   category           609 non-null    object \n",
      " 2   product            609 non-null    object \n",
      " 3   Original_price     583 non-null    float64\n",
      " 4   price              609 non-null    float64\n",
      " 5   perc_of_unit_sold  522 non-null    float64\n",
      " 6   rating             427 non-null    float64\n",
      " 7   shpping_rate       567 non-null    object \n",
      " 8   gender             581 non-null    object \n",
      "dtypes: float64(4), int64(1), object(4)\n",
      "memory usage: 42.9+ KB\n"
     ]
    }
   ],
   "source": [
    "dfs.info()"
   ]
  },
  {
   "cell_type": "markdown",
   "metadata": {},
   "source": [
    "- Terdapat 609 data penjualan"
   ]
  },
  {
   "cell_type": "code",
   "execution_count": 4,
   "metadata": {},
   "outputs": [
    {
     "data": {
      "text/html": [
       "<div>\n",
       "<style scoped>\n",
       "    .dataframe tbody tr th:only-of-type {\n",
       "        vertical-align: middle;\n",
       "    }\n",
       "\n",
       "    .dataframe tbody tr th {\n",
       "        vertical-align: top;\n",
       "    }\n",
       "\n",
       "    .dataframe thead th {\n",
       "        text-align: right;\n",
       "    }\n",
       "</style>\n",
       "<table border=\"1\" class=\"dataframe\">\n",
       "  <thead>\n",
       "    <tr style=\"text-align: right;\">\n",
       "      <th></th>\n",
       "      <th>Unnamed: 0</th>\n",
       "      <th>category</th>\n",
       "      <th>product</th>\n",
       "      <th>Harga asli</th>\n",
       "      <th>Harga diskon</th>\n",
       "      <th>% penjualan</th>\n",
       "      <th>rating</th>\n",
       "      <th>shipping</th>\n",
       "      <th>gender</th>\n",
       "    </tr>\n",
       "  </thead>\n",
       "  <tbody>\n",
       "    <tr>\n",
       "      <th>0</th>\n",
       "      <td>0</td>\n",
       "      <td>Athletic Shoes</td>\n",
       "      <td>Nike SB Check Solar Cnvs Skateboarding Shoes f...</td>\n",
       "      <td>299.0</td>\n",
       "      <td>211.48</td>\n",
       "      <td>94.0</td>\n",
       "      <td>100.0</td>\n",
       "      <td>FREE Shipping</td>\n",
       "      <td>men</td>\n",
       "    </tr>\n",
       "    <tr>\n",
       "      <th>1</th>\n",
       "      <td>1</td>\n",
       "      <td>Athletic Shoes</td>\n",
       "      <td>Nike Md Runner 2 Two-Tone Textile-Mesh Suede-A...</td>\n",
       "      <td>349.0</td>\n",
       "      <td>289.99</td>\n",
       "      <td>80.0</td>\n",
       "      <td>88.0</td>\n",
       "      <td>FREE Shipping</td>\n",
       "      <td>men</td>\n",
       "    </tr>\n",
       "    <tr>\n",
       "      <th>2</th>\n",
       "      <td>2</td>\n",
       "      <td>Athletic Shoes</td>\n",
       "      <td>Nike air Heights Sneaker for Women , Size 38 E...</td>\n",
       "      <td>419.0</td>\n",
       "      <td>337.48</td>\n",
       "      <td>77.0</td>\n",
       "      <td>NaN</td>\n",
       "      <td>FREE Shipping</td>\n",
       "      <td>women</td>\n",
       "    </tr>\n",
       "    <tr>\n",
       "      <th>3</th>\n",
       "      <td>3</td>\n",
       "      <td>Athletic Shoes</td>\n",
       "      <td>Nike Fitness Shoes For Men , 43 EU , Black</td>\n",
       "      <td>319.0</td>\n",
       "      <td>211.48</td>\n",
       "      <td>76.0</td>\n",
       "      <td>80.0</td>\n",
       "      <td>FREE Shipping</td>\n",
       "      <td>men</td>\n",
       "    </tr>\n",
       "    <tr>\n",
       "      <th>4</th>\n",
       "      <td>4</td>\n",
       "      <td>Athletic Shoes</td>\n",
       "      <td>adidas ASWEERUN Sneaker for Mens, Grey - Size ...</td>\n",
       "      <td>259.0</td>\n",
       "      <td>194.99</td>\n",
       "      <td>94.0</td>\n",
       "      <td>NaN</td>\n",
       "      <td>Eligible for FREE Shipping</td>\n",
       "      <td>men</td>\n",
       "    </tr>\n",
       "  </tbody>\n",
       "</table>\n",
       "</div>"
      ],
      "text/plain": [
       "   Unnamed: 0        category  \\\n",
       "0           0  Athletic Shoes   \n",
       "1           1  Athletic Shoes   \n",
       "2           2  Athletic Shoes   \n",
       "3           3  Athletic Shoes   \n",
       "4           4  Athletic Shoes   \n",
       "\n",
       "                                             product  Harga asli  \\\n",
       "0  Nike SB Check Solar Cnvs Skateboarding Shoes f...       299.0   \n",
       "1  Nike Md Runner 2 Two-Tone Textile-Mesh Suede-A...       349.0   \n",
       "2  Nike air Heights Sneaker for Women , Size 38 E...       419.0   \n",
       "3         Nike Fitness Shoes For Men , 43 EU , Black       319.0   \n",
       "4  adidas ASWEERUN Sneaker for Mens, Grey - Size ...       259.0   \n",
       "\n",
       "   Harga diskon  % penjualan  rating                    shipping gender  \n",
       "0        211.48         94.0   100.0               FREE Shipping    men  \n",
       "1        289.99         80.0    88.0               FREE Shipping    men  \n",
       "2        337.48         77.0     NaN               FREE Shipping  women  \n",
       "3        211.48         76.0    80.0               FREE Shipping    men  \n",
       "4        194.99         94.0     NaN  Eligible for FREE Shipping    men  "
      ]
     },
     "execution_count": 4,
     "metadata": {},
     "output_type": "execute_result"
    }
   ],
   "source": [
    "# dfs = dfs.drop(columns='Unnamed: 0')\n",
    "# dfs['index'] = np.arange(0, 609)\n",
    "# dfs = dfs.set_index('index') # Set kolom index jadi index data frame\n",
    "dfs = dfs.rename(columns={\"Original_price\":\"Harga asli\", \"price\":\"Harga diskon\", \"perc_of_unit_sold\":\"% penjualan\", \"shpping_rate\":\"shipping\"}) # Rename Kolom agar lebih mudah akses\n",
    "dfs.head()"
   ]
  },
  {
   "cell_type": "code",
   "execution_count": 5,
   "metadata": {},
   "outputs": [
    {
     "data": {
      "text/html": [
       "<div>\n",
       "<style scoped>\n",
       "    .dataframe tbody tr th:only-of-type {\n",
       "        vertical-align: middle;\n",
       "    }\n",
       "\n",
       "    .dataframe tbody tr th {\n",
       "        vertical-align: top;\n",
       "    }\n",
       "\n",
       "    .dataframe thead th {\n",
       "        text-align: right;\n",
       "    }\n",
       "</style>\n",
       "<table border=\"1\" class=\"dataframe\">\n",
       "  <thead>\n",
       "    <tr style=\"text-align: right;\">\n",
       "      <th></th>\n",
       "      <th>count</th>\n",
       "      <th>mean</th>\n",
       "      <th>std</th>\n",
       "      <th>min</th>\n",
       "      <th>25%</th>\n",
       "      <th>50%</th>\n",
       "      <th>75%</th>\n",
       "      <th>max</th>\n",
       "    </tr>\n",
       "  </thead>\n",
       "  <tbody>\n",
       "    <tr>\n",
       "      <th>Unnamed: 0</th>\n",
       "      <td>609.0</td>\n",
       "      <td>60.072250</td>\n",
       "      <td>47.287663</td>\n",
       "      <td>0.0</td>\n",
       "      <td>21.00</td>\n",
       "      <td>46.00</td>\n",
       "      <td>92.00</td>\n",
       "      <td>179.0</td>\n",
       "    </tr>\n",
       "    <tr>\n",
       "      <th>Harga asli</th>\n",
       "      <td>583.0</td>\n",
       "      <td>864.498113</td>\n",
       "      <td>1803.365527</td>\n",
       "      <td>42.0</td>\n",
       "      <td>273.00</td>\n",
       "      <td>499.00</td>\n",
       "      <td>980.00</td>\n",
       "      <td>29970.0</td>\n",
       "    </tr>\n",
       "    <tr>\n",
       "      <th>Harga diskon</th>\n",
       "      <td>609.0</td>\n",
       "      <td>339.434039</td>\n",
       "      <td>285.416406</td>\n",
       "      <td>21.4</td>\n",
       "      <td>140.98</td>\n",
       "      <td>262.49</td>\n",
       "      <td>444.99</td>\n",
       "      <td>3220.0</td>\n",
       "    </tr>\n",
       "    <tr>\n",
       "      <th>% penjualan</th>\n",
       "      <td>522.0</td>\n",
       "      <td>57.678161</td>\n",
       "      <td>25.434947</td>\n",
       "      <td>2.0</td>\n",
       "      <td>36.25</td>\n",
       "      <td>60.00</td>\n",
       "      <td>79.00</td>\n",
       "      <td>99.0</td>\n",
       "    </tr>\n",
       "    <tr>\n",
       "      <th>rating</th>\n",
       "      <td>427.0</td>\n",
       "      <td>87.807963</td>\n",
       "      <td>11.422350</td>\n",
       "      <td>20.0</td>\n",
       "      <td>82.00</td>\n",
       "      <td>88.00</td>\n",
       "      <td>96.00</td>\n",
       "      <td>100.0</td>\n",
       "    </tr>\n",
       "  </tbody>\n",
       "</table>\n",
       "</div>"
      ],
      "text/plain": [
       "              count        mean          std   min     25%     50%     75%  \\\n",
       "Unnamed: 0    609.0   60.072250    47.287663   0.0   21.00   46.00   92.00   \n",
       "Harga asli    583.0  864.498113  1803.365527  42.0  273.00  499.00  980.00   \n",
       "Harga diskon  609.0  339.434039   285.416406  21.4  140.98  262.49  444.99   \n",
       "% penjualan   522.0   57.678161    25.434947   2.0   36.25   60.00   79.00   \n",
       "rating        427.0   87.807963    11.422350  20.0   82.00   88.00   96.00   \n",
       "\n",
       "                  max  \n",
       "Unnamed: 0      179.0  \n",
       "Harga asli    29970.0  \n",
       "Harga diskon   3220.0  \n",
       "% penjualan      99.0  \n",
       "rating          100.0  "
      ]
     },
     "execution_count": 5,
     "metadata": {},
     "output_type": "execute_result"
    }
   ],
   "source": [
    "dfs.describe().T"
   ]
  },
  {
   "cell_type": "code",
   "execution_count": 6,
   "metadata": {},
   "outputs": [
    {
     "data": {
      "text/html": [
       "<div>\n",
       "<style scoped>\n",
       "    .dataframe tbody tr th:only-of-type {\n",
       "        vertical-align: middle;\n",
       "    }\n",
       "\n",
       "    .dataframe tbody tr th {\n",
       "        vertical-align: top;\n",
       "    }\n",
       "\n",
       "    .dataframe thead th {\n",
       "        text-align: right;\n",
       "    }\n",
       "</style>\n",
       "<table border=\"1\" class=\"dataframe\">\n",
       "  <thead>\n",
       "    <tr style=\"text-align: right;\">\n",
       "      <th></th>\n",
       "      <th>count</th>\n",
       "      <th>unique</th>\n",
       "      <th>top</th>\n",
       "      <th>freq</th>\n",
       "    </tr>\n",
       "  </thead>\n",
       "  <tbody>\n",
       "    <tr>\n",
       "      <th>category</th>\n",
       "      <td>609</td>\n",
       "      <td>7</td>\n",
       "      <td>Watches</td>\n",
       "      <td>180</td>\n",
       "    </tr>\n",
       "    <tr>\n",
       "      <th>product</th>\n",
       "      <td>609</td>\n",
       "      <td>602</td>\n",
       "      <td>Lacoste Casual Shoe for Men Size 44 EU - White</td>\n",
       "      <td>3</td>\n",
       "    </tr>\n",
       "    <tr>\n",
       "      <th>shipping</th>\n",
       "      <td>567</td>\n",
       "      <td>2</td>\n",
       "      <td>FREE Shipping</td>\n",
       "      <td>356</td>\n",
       "    </tr>\n",
       "    <tr>\n",
       "      <th>gender</th>\n",
       "      <td>581</td>\n",
       "      <td>3</td>\n",
       "      <td>men</td>\n",
       "      <td>338</td>\n",
       "    </tr>\n",
       "  </tbody>\n",
       "</table>\n",
       "</div>"
      ],
      "text/plain": [
       "         count unique                                             top freq\n",
       "category   609      7                                         Watches  180\n",
       "product    609    602  Lacoste Casual Shoe for Men Size 44 EU - White    3\n",
       "shipping   567      2                                   FREE Shipping  356\n",
       "gender     581      3                                             men  338"
      ]
     },
     "execution_count": 6,
     "metadata": {},
     "output_type": "execute_result"
    }
   ],
   "source": [
    "dfs.describe(include='O').T"
   ]
  },
  {
   "cell_type": "code",
   "execution_count": 7,
   "metadata": {},
   "outputs": [
    {
     "data": {
      "text/html": [
       "<div>\n",
       "<style scoped>\n",
       "    .dataframe tbody tr th:only-of-type {\n",
       "        vertical-align: middle;\n",
       "    }\n",
       "\n",
       "    .dataframe tbody tr th {\n",
       "        vertical-align: top;\n",
       "    }\n",
       "\n",
       "    .dataframe thead th {\n",
       "        text-align: right;\n",
       "    }\n",
       "</style>\n",
       "<table border=\"1\" class=\"dataframe\">\n",
       "  <thead>\n",
       "    <tr style=\"text-align: right;\">\n",
       "      <th></th>\n",
       "      <th>Unnamed: 0</th>\n",
       "      <th>category</th>\n",
       "      <th>product</th>\n",
       "      <th>Harga asli</th>\n",
       "      <th>Harga diskon</th>\n",
       "      <th>% penjualan</th>\n",
       "      <th>rating</th>\n",
       "      <th>shipping</th>\n",
       "      <th>gender</th>\n",
       "    </tr>\n",
       "  </thead>\n",
       "  <tbody>\n",
       "    <tr>\n",
       "      <th>122</th>\n",
       "      <td>27</td>\n",
       "      <td>Casual &amp; Dress Shoes</td>\n",
       "      <td>Lacoste Casual Shoe for Men Size 44 EU - White</td>\n",
       "      <td>359.0</td>\n",
       "      <td>254.49</td>\n",
       "      <td>83.0</td>\n",
       "      <td>100.0</td>\n",
       "      <td>FREE Shipping</td>\n",
       "      <td>men</td>\n",
       "    </tr>\n",
       "    <tr>\n",
       "      <th>134</th>\n",
       "      <td>39</td>\n",
       "      <td>Casual &amp; Dress Shoes</td>\n",
       "      <td>Lacoste Casual Shoe for Men Size 44 EU - White</td>\n",
       "      <td>469.0</td>\n",
       "      <td>333.98</td>\n",
       "      <td>50.0</td>\n",
       "      <td>NaN</td>\n",
       "      <td>FREE Shipping</td>\n",
       "      <td>men</td>\n",
       "    </tr>\n",
       "    <tr>\n",
       "      <th>136</th>\n",
       "      <td>41</td>\n",
       "      <td>Casual &amp; Dress Shoes</td>\n",
       "      <td>Lacoste Casual Shoe for Men Size 44 EU - White</td>\n",
       "      <td>499.0</td>\n",
       "      <td>349.99</td>\n",
       "      <td>NaN</td>\n",
       "      <td>NaN</td>\n",
       "      <td>FREE Shipping</td>\n",
       "      <td>men</td>\n",
       "    </tr>\n",
       "    <tr>\n",
       "      <th>95</th>\n",
       "      <td>0</td>\n",
       "      <td>Casual &amp; Dress Shoes</td>\n",
       "      <td>Lacoste Casual Shoe For Men Size 45 EU - White</td>\n",
       "      <td>519.0</td>\n",
       "      <td>295.98</td>\n",
       "      <td>14.0</td>\n",
       "      <td>NaN</td>\n",
       "      <td>FREE Shipping</td>\n",
       "      <td>men</td>\n",
       "    </tr>\n",
       "    <tr>\n",
       "      <th>121</th>\n",
       "      <td>26</td>\n",
       "      <td>Casual &amp; Dress Shoes</td>\n",
       "      <td>Lacoste Casual Shoe For Men Size 45 EU - White</td>\n",
       "      <td>449.0</td>\n",
       "      <td>258.49</td>\n",
       "      <td>NaN</td>\n",
       "      <td>NaN</td>\n",
       "      <td>FREE Shipping</td>\n",
       "      <td>men</td>\n",
       "    </tr>\n",
       "    <tr>\n",
       "      <th>149</th>\n",
       "      <td>7</td>\n",
       "      <td>Eyewear</td>\n",
       "      <td>Polaroid Sunglasses for Unisex , Blue</td>\n",
       "      <td>250.0</td>\n",
       "      <td>180.48</td>\n",
       "      <td>46.0</td>\n",
       "      <td>NaN</td>\n",
       "      <td>Eligible for FREE Shipping</td>\n",
       "      <td>Unisex</td>\n",
       "    </tr>\n",
       "    <tr>\n",
       "      <th>244</th>\n",
       "      <td>102</td>\n",
       "      <td>Eyewear</td>\n",
       "      <td>Polaroid Sunglasses for Unisex , Blue</td>\n",
       "      <td>250.0</td>\n",
       "      <td>149.98</td>\n",
       "      <td>85.0</td>\n",
       "      <td>NaN</td>\n",
       "      <td>Eligible for FREE Shipping</td>\n",
       "      <td>Unisex</td>\n",
       "    </tr>\n",
       "    <tr>\n",
       "      <th>451</th>\n",
       "      <td>22</td>\n",
       "      <td>Watches</td>\n",
       "      <td>Hugo Boss Casual Round Watch for Men</td>\n",
       "      <td>1285.0</td>\n",
       "      <td>407.99</td>\n",
       "      <td>3.0</td>\n",
       "      <td>NaN</td>\n",
       "      <td>FREE Shipping</td>\n",
       "      <td>men</td>\n",
       "    </tr>\n",
       "    <tr>\n",
       "      <th>481</th>\n",
       "      <td>52</td>\n",
       "      <td>Watches</td>\n",
       "      <td>Hugo Boss Casual Round Watch for Men</td>\n",
       "      <td>1285.0</td>\n",
       "      <td>412.48</td>\n",
       "      <td>9.0</td>\n",
       "      <td>NaN</td>\n",
       "      <td>FREE Shipping</td>\n",
       "      <td>men</td>\n",
       "    </tr>\n",
       "    <tr>\n",
       "      <th>99</th>\n",
       "      <td>4</td>\n",
       "      <td>Casual &amp; Dress Shoes</td>\n",
       "      <td>Lacoste Casual Shoe for Men Size 42 EU - Black</td>\n",
       "      <td>539.0</td>\n",
       "      <td>309.98</td>\n",
       "      <td>87.0</td>\n",
       "      <td>100.0</td>\n",
       "      <td>FREE Shipping</td>\n",
       "      <td>men</td>\n",
       "    </tr>\n",
       "    <tr>\n",
       "      <th>140</th>\n",
       "      <td>45</td>\n",
       "      <td>Casual &amp; Dress Shoes</td>\n",
       "      <td>Lacoste Casual Shoe for Men Size 42 EU - Black</td>\n",
       "      <td>379.0</td>\n",
       "      <td>270.48</td>\n",
       "      <td>50.0</td>\n",
       "      <td>NaN</td>\n",
       "      <td>FREE Shipping</td>\n",
       "      <td>men</td>\n",
       "    </tr>\n",
       "    <tr>\n",
       "      <th>135</th>\n",
       "      <td>40</td>\n",
       "      <td>Casual &amp; Dress Shoes</td>\n",
       "      <td>Lacoste Casual Shoe for Men Size 44 EU - Navy</td>\n",
       "      <td>409.0</td>\n",
       "      <td>286.48</td>\n",
       "      <td>NaN</td>\n",
       "      <td>NaN</td>\n",
       "      <td>FREE Shipping</td>\n",
       "      <td>men</td>\n",
       "    </tr>\n",
       "    <tr>\n",
       "      <th>138</th>\n",
       "      <td>43</td>\n",
       "      <td>Casual &amp; Dress Shoes</td>\n",
       "      <td>Lacoste Casual Shoe for Men Size 44 EU - Navy</td>\n",
       "      <td>379.0</td>\n",
       "      <td>260.99</td>\n",
       "      <td>33.0</td>\n",
       "      <td>NaN</td>\n",
       "      <td>FREE Shipping</td>\n",
       "      <td>men</td>\n",
       "    </tr>\n",
       "  </tbody>\n",
       "</table>\n",
       "</div>"
      ],
      "text/plain": [
       "     Unnamed: 0              category  \\\n",
       "122          27  Casual & Dress Shoes   \n",
       "134          39  Casual & Dress Shoes   \n",
       "136          41  Casual & Dress Shoes   \n",
       "95            0  Casual & Dress Shoes   \n",
       "121          26  Casual & Dress Shoes   \n",
       "149           7               Eyewear   \n",
       "244         102               Eyewear   \n",
       "451          22               Watches   \n",
       "481          52               Watches   \n",
       "99            4  Casual & Dress Shoes   \n",
       "140          45  Casual & Dress Shoes   \n",
       "135          40  Casual & Dress Shoes   \n",
       "138          43  Casual & Dress Shoes   \n",
       "\n",
       "                                            product  Harga asli  Harga diskon  \\\n",
       "122  Lacoste Casual Shoe for Men Size 44 EU - White       359.0        254.49   \n",
       "134  Lacoste Casual Shoe for Men Size 44 EU - White       469.0        333.98   \n",
       "136  Lacoste Casual Shoe for Men Size 44 EU - White       499.0        349.99   \n",
       "95   Lacoste Casual Shoe For Men Size 45 EU - White       519.0        295.98   \n",
       "121  Lacoste Casual Shoe For Men Size 45 EU - White       449.0        258.49   \n",
       "149           Polaroid Sunglasses for Unisex , Blue       250.0        180.48   \n",
       "244           Polaroid Sunglasses for Unisex , Blue       250.0        149.98   \n",
       "451            Hugo Boss Casual Round Watch for Men      1285.0        407.99   \n",
       "481            Hugo Boss Casual Round Watch for Men      1285.0        412.48   \n",
       "99   Lacoste Casual Shoe for Men Size 42 EU - Black       539.0        309.98   \n",
       "140  Lacoste Casual Shoe for Men Size 42 EU - Black       379.0        270.48   \n",
       "135   Lacoste Casual Shoe for Men Size 44 EU - Navy       409.0        286.48   \n",
       "138   Lacoste Casual Shoe for Men Size 44 EU - Navy       379.0        260.99   \n",
       "\n",
       "     % penjualan  rating                    shipping  gender  \n",
       "122         83.0   100.0               FREE Shipping     men  \n",
       "134         50.0     NaN               FREE Shipping     men  \n",
       "136          NaN     NaN               FREE Shipping     men  \n",
       "95          14.0     NaN               FREE Shipping     men  \n",
       "121          NaN     NaN               FREE Shipping     men  \n",
       "149         46.0     NaN  Eligible for FREE Shipping  Unisex  \n",
       "244         85.0     NaN  Eligible for FREE Shipping  Unisex  \n",
       "451          3.0     NaN               FREE Shipping     men  \n",
       "481          9.0     NaN               FREE Shipping     men  \n",
       "99          87.0   100.0               FREE Shipping     men  \n",
       "140         50.0     NaN               FREE Shipping     men  \n",
       "135          NaN     NaN               FREE Shipping     men  \n",
       "138         33.0     NaN               FREE Shipping     men  "
      ]
     },
     "execution_count": 7,
     "metadata": {},
     "output_type": "execute_result"
    }
   ],
   "source": [
    "a = dfs[dfs['product']=='Lacoste Casual Shoe for Men Size 44 EU - White']\n",
    "b = dfs[dfs['product']=='Lacoste Casual Shoe For Men Size 45 EU - White']\n",
    "c = dfs[dfs['product']=='Polaroid Sunglasses for Unisex , Blue']\n",
    "d = dfs[dfs['product']=='Hugo Boss Casual Round Watch for Men']\n",
    "e = dfs[dfs['product']=='Lacoste Casual Shoe for Men Size 42 EU - Black']\n",
    "f = dfs[dfs['product']=='Lacoste Casual Shoe for Men Size 44 EU - Navy']\n",
    "dfproduksama = pd.concat([a,b,c,d,e,f])\n",
    "dfproduksama"
   ]
  },
  {
   "cell_type": "markdown",
   "metadata": {},
   "source": [
    "- Terdapat beberapa produk yang sama memiliki frequensi lebih dari 1, akan tetapi harga asli dan harga diskon nya berbeda. Hal ini mungkin menunjukan bahwa produk tersebut berasal dari ecommerce yang berbeda atau pada waktu penjualan yang berbeda"
   ]
  },
  {
   "cell_type": "markdown",
   "metadata": {},
   "source": [
    "---------------------------------------------------------------------------------------------------------------------------------------"
   ]
  },
  {
   "cell_type": "markdown",
   "metadata": {},
   "source": [
    "## Unique setiap kolom"
   ]
  },
  {
   "cell_type": "code",
   "execution_count": 8,
   "metadata": {},
   "outputs": [
    {
     "data": {
      "text/plain": [
       "['Athletic Shoes',\n",
       " 'Casual & Dress Shoes',\n",
       " 'Eyewear',\n",
       " 'Perfumes & Fragrances',\n",
       " 'Sportswear',\n",
       " 'Wallets',\n",
       " 'Watches']"
      ]
     },
     "execution_count": 8,
     "metadata": {},
     "output_type": "execute_result"
    }
   ],
   "source": [
    "dfs['category'].unique().tolist()"
   ]
  },
  {
   "cell_type": "code",
   "execution_count": 9,
   "metadata": {},
   "outputs": [],
   "source": [
    "# dfs['product'].unique().tolist() # TIDAK DI TAMPILKAN KARENA 602 unique itu terlalu banyak untuk di show"
   ]
  },
  {
   "cell_type": "code",
   "execution_count": 10,
   "metadata": {},
   "outputs": [
    {
     "data": {
      "text/plain": [
       "['FREE Shipping', 'Eligible for FREE Shipping', nan]"
      ]
     },
     "execution_count": 10,
     "metadata": {},
     "output_type": "execute_result"
    }
   ],
   "source": [
    "dfs['shipping'].unique().tolist()"
   ]
  },
  {
   "cell_type": "code",
   "execution_count": 11,
   "metadata": {},
   "outputs": [
    {
     "data": {
      "text/plain": [
       "['men', 'women', nan, 'Unisex']"
      ]
     },
     "execution_count": 11,
     "metadata": {},
     "output_type": "execute_result"
    }
   ],
   "source": [
    "dfs['gender'].unique().tolist()"
   ]
  },
  {
   "cell_type": "markdown",
   "metadata": {},
   "source": [
    "---------------------------------------------------------------------------------------------------------------------------------------"
   ]
  },
  {
   "cell_type": "markdown",
   "metadata": {},
   "source": [
    "# Cek Missing Value"
   ]
  },
  {
   "cell_type": "code",
   "execution_count": 12,
   "metadata": {},
   "outputs": [
    {
     "data": {
      "text/plain": [
       "Unnamed: 0        0\n",
       "category          0\n",
       "product           0\n",
       "Harga asli       26\n",
       "Harga diskon      0\n",
       "% penjualan      87\n",
       "rating          182\n",
       "shipping         42\n",
       "gender           28\n",
       "dtype: int64"
      ]
     },
     "execution_count": 12,
     "metadata": {},
     "output_type": "execute_result"
    }
   ],
   "source": [
    "dfs.isnull().sum()"
   ]
  },
  {
   "cell_type": "markdown",
   "metadata": {},
   "source": [
    "## Missing Value in percent"
   ]
  },
  {
   "cell_type": "code",
   "execution_count": 13,
   "metadata": {},
   "outputs": [
    {
     "data": {
      "text/plain": [
       "Unnamed: 0       0.000000\n",
       "category         0.000000\n",
       "product          0.000000\n",
       "Harga asli       4.269294\n",
       "Harga diskon     0.000000\n",
       "% penjualan     14.285714\n",
       "rating          29.885057\n",
       "shipping         6.896552\n",
       "gender           4.597701\n",
       "dtype: float64"
      ]
     },
     "execution_count": 13,
     "metadata": {},
     "output_type": "execute_result"
    }
   ],
   "source": [
    "(dfs.isnull().sum())/ len(dfs.index) * 100"
   ]
  },
  {
   "cell_type": "markdown",
   "metadata": {},
   "source": [
    "## Gambaran data missing value"
   ]
  },
  {
   "cell_type": "code",
   "execution_count": 14,
   "metadata": {},
   "outputs": [
    {
     "data": {
      "text/html": [
       "<div>\n",
       "<style scoped>\n",
       "    .dataframe tbody tr th:only-of-type {\n",
       "        vertical-align: middle;\n",
       "    }\n",
       "\n",
       "    .dataframe tbody tr th {\n",
       "        vertical-align: top;\n",
       "    }\n",
       "\n",
       "    .dataframe thead th {\n",
       "        text-align: right;\n",
       "    }\n",
       "</style>\n",
       "<table border=\"1\" class=\"dataframe\">\n",
       "  <thead>\n",
       "    <tr style=\"text-align: right;\">\n",
       "      <th></th>\n",
       "      <th>Unnamed: 0</th>\n",
       "      <th>category</th>\n",
       "      <th>product</th>\n",
       "      <th>Harga asli</th>\n",
       "      <th>Harga diskon</th>\n",
       "      <th>% penjualan</th>\n",
       "      <th>rating</th>\n",
       "      <th>shipping</th>\n",
       "      <th>gender</th>\n",
       "    </tr>\n",
       "  </thead>\n",
       "  <tbody>\n",
       "    <tr>\n",
       "      <th>572</th>\n",
       "      <td>143</td>\n",
       "      <td>Watches</td>\n",
       "      <td>Olivia Burton Marble Florals Dial Watch for Wo...</td>\n",
       "      <td>805.0</td>\n",
       "      <td>276.49</td>\n",
       "      <td>40.0</td>\n",
       "      <td>NaN</td>\n",
       "      <td>FREE Shipping</td>\n",
       "      <td>women</td>\n",
       "    </tr>\n",
       "    <tr>\n",
       "      <th>574</th>\n",
       "      <td>145</td>\n",
       "      <td>Watches</td>\n",
       "      <td>Lacoste Casual Watch For Women Analog Silicone...</td>\n",
       "      <td>895.0</td>\n",
       "      <td>388.00</td>\n",
       "      <td>40.0</td>\n",
       "      <td>NaN</td>\n",
       "      <td>FREE Shipping</td>\n",
       "      <td>women</td>\n",
       "    </tr>\n",
       "    <tr>\n",
       "      <th>578</th>\n",
       "      <td>149</td>\n",
       "      <td>Watches</td>\n",
       "      <td>Akribos XXIV Men's Classic Bubble Crystal 3 In...</td>\n",
       "      <td>NaN</td>\n",
       "      <td>260.48</td>\n",
       "      <td>93.0</td>\n",
       "      <td>94.0</td>\n",
       "      <td>FREE Shipping</td>\n",
       "      <td>men</td>\n",
       "    </tr>\n",
       "    <tr>\n",
       "      <th>597</th>\n",
       "      <td>168</td>\n",
       "      <td>Watches</td>\n",
       "      <td>Scuderia Ferrari Men's Grey  Dial Color Rubber...</td>\n",
       "      <td>1045.0</td>\n",
       "      <td>543.98</td>\n",
       "      <td>31.0</td>\n",
       "      <td>NaN</td>\n",
       "      <td>FREE Shipping</td>\n",
       "      <td>men</td>\n",
       "    </tr>\n",
       "    <tr>\n",
       "      <th>608</th>\n",
       "      <td>179</td>\n",
       "      <td>Watches</td>\n",
       "      <td>Tissot Dress Watch For Women Analog Stainless ...</td>\n",
       "      <td>1740.0</td>\n",
       "      <td>960.49</td>\n",
       "      <td>20.0</td>\n",
       "      <td>NaN</td>\n",
       "      <td>FREE Shipping</td>\n",
       "      <td>women</td>\n",
       "    </tr>\n",
       "  </tbody>\n",
       "</table>\n",
       "</div>"
      ],
      "text/plain": [
       "     Unnamed: 0 category                                            product  \\\n",
       "572         143  Watches  Olivia Burton Marble Florals Dial Watch for Wo...   \n",
       "574         145  Watches  Lacoste Casual Watch For Women Analog Silicone...   \n",
       "578         149  Watches  Akribos XXIV Men's Classic Bubble Crystal 3 In...   \n",
       "597         168  Watches  Scuderia Ferrari Men's Grey  Dial Color Rubber...   \n",
       "608         179  Watches  Tissot Dress Watch For Women Analog Stainless ...   \n",
       "\n",
       "     Harga asli  Harga diskon  % penjualan  rating       shipping gender  \n",
       "572       805.0        276.49         40.0     NaN  FREE Shipping  women  \n",
       "574       895.0        388.00         40.0     NaN  FREE Shipping  women  \n",
       "578         NaN        260.48         93.0    94.0  FREE Shipping    men  \n",
       "597      1045.0        543.98         31.0     NaN  FREE Shipping    men  \n",
       "608      1740.0        960.49         20.0     NaN  FREE Shipping  women  "
      ]
     },
     "execution_count": 14,
     "metadata": {},
     "output_type": "execute_result"
    }
   ],
   "source": [
    "dfnan = dfs[dfs.isna().any(axis=1)]\n",
    "dfnan.tail(5)"
   ]
  },
  {
   "cell_type": "markdown",
   "metadata": {},
   "source": [
    "---------------------------------------------------------------------------------------------------------------------------------------"
   ]
  },
  {
   "cell_type": "markdown",
   "metadata": {},
   "source": [
    "# Handling Missing Value"
   ]
  },
  {
   "cell_type": "markdown",
   "metadata": {},
   "source": [
    "## 1. Target (% penjualan)\n",
    "\n",
    "Untuk kolom target, nan value langsung di drop karena persentase null nya hanya 14% dari 609 data (85 data)"
   ]
  },
  {
   "cell_type": "code",
   "execution_count": 15,
   "metadata": {},
   "outputs": [
    {
     "data": {
      "text/plain": [
       "Unnamed: 0        0\n",
       "category          0\n",
       "product           0\n",
       "Harga asli       14\n",
       "Harga diskon      0\n",
       "% penjualan       0\n",
       "rating          135\n",
       "shipping         15\n",
       "gender           22\n",
       "dtype: int64"
      ]
     },
     "execution_count": 15,
     "metadata": {},
     "output_type": "execute_result"
    }
   ],
   "source": [
    "dfs = dfs[dfs['% penjualan'].notna()]\n",
    "dfs.isnull().sum()"
   ]
  },
  {
   "cell_type": "markdown",
   "metadata": {},
   "source": [
    "## 2. Harga Asli\n",
    "\n",
    "Untuk handling nan Harga asli, dimana harga asli berkaitan erat dengan category product dan harga diskon, maka nan Harga asli akan difillna dengan cara menambahkan harga diskon dengan median diskon sesuai category product. Digunakan median karena terdapat outlier pada persebaran data feature diskon dan Harga diskon."
   ]
  },
  {
   "cell_type": "code",
   "execution_count": 16,
   "metadata": {},
   "outputs": [],
   "source": [
    "dfs['Diskon'] = dfs['Harga asli'] - dfs['Harga diskon']"
   ]
  },
  {
   "cell_type": "markdown",
   "metadata": {},
   "source": [
    "##### - Persebaran data diskon dfs"
   ]
  },
  {
   "cell_type": "code",
   "execution_count": 17,
   "metadata": {},
   "outputs": [
    {
     "data": {
      "text/plain": [
       "<matplotlib.axes._subplots.AxesSubplot at 0x280d7b9d9a0>"
      ]
     },
     "execution_count": 17,
     "metadata": {},
     "output_type": "execute_result"
    },
    {
     "data": {
      "image/png": "[encoded data removed]",
      "text/plain": [
       "<Figure size 432x288 with 1 Axes>"
      ]
     },
     "metadata": {
      "needs_background": "light"
     },
     "output_type": "display_data"
    }
   ],
   "source": [
    "sns.boxplot(x=dfs['Diskon'])"
   ]
  },
  {
   "cell_type": "code",
   "execution_count": 18,
   "metadata": {},
   "outputs": [
    {
     "data": {
      "text/plain": [
       "category\n",
       "Athletic Shoes            96.010\n",
       "Casual & Dress Shoes     187.010\n",
       "Eyewear                  391.260\n",
       "Perfumes & Fragrances    183.430\n",
       "Sportswear                58.520\n",
       "Wallets                   81.510\n",
       "Watches                  507.005\n",
       "Name: Diskon, dtype: float64"
      ]
     },
     "execution_count": 18,
     "metadata": {},
     "output_type": "execute_result"
    }
   ],
   "source": [
    "dfsdiskon = dfs.groupby(['category'])['Diskon'].median()\n",
    "dfsdiskon"
   ]
  },
  {
   "cell_type": "markdown",
   "metadata": {},
   "source": [
    "- Category Athletic fillna Harga asli"
   ]
  },
  {
   "cell_type": "code",
   "execution_count": 19,
   "metadata": {},
   "outputs": [],
   "source": [
    "# dfs['Harga asli'][(dfs['category']== 'Athletic Shoes') & (dfs['Harga asli'].isna())] = dfs['Harga asli'][(dfs['category']== 'Athletic Shoes') & (dfs['Harga asli'].isna())].fillna(dfs['Athletic Shoes']+dfsdiskon['Athletic Shoes'])"
   ]
  },
  {
   "cell_type": "code",
   "execution_count": 20,
   "metadata": {},
   "outputs": [],
   "source": [
    "# dfs['Diskon'][(dfs['category']== 'Athletic Shoes') & (dfs['Harga asli'].isna())] = dfs['Diskon'][(dfs['category']== 'Athletic Shoes') & (dfs['Harga asli'].isna())].fillna(dfsdiskon['Athletic Shoes'])"
   ]
  },
  {
   "cell_type": "markdown",
   "metadata": {},
   "source": [
    "- Category Perfumes & Fragrances Harga asli"
   ]
  },
  {
   "cell_type": "code",
   "execution_count": 21,
   "metadata": {},
   "outputs": [],
   "source": [
    "# dfs['Harga asli'][(dfs['category']== 'Perfumes & Fragrances') & (dfs['Harga asli'].isna())] = dfs['Harga asli'][(dfs['category']== 'Perfumes & Fragrances') & (dfs['Harga asli'].isna())].fillna(dfshargadiskon['Perfumes & Fragrances']+dfsdiskon['Perfumes & Fragrances'])"
   ]
  },
  {
   "cell_type": "code",
   "execution_count": 22,
   "metadata": {},
   "outputs": [],
   "source": [
    "# dfs['Diskon'][(dfs['category']== 'Perfumes & Fragrances') & (dfs['Harga asli'].isna())] = dfs['Diskon'][(dfs['category']== 'Perfumes & Fragrances') & (dfs['Harga asli'].isna())].fillna(dfsdiskon['Perfumes & Fragrances'])"
   ]
  },
  {
   "cell_type": "markdown",
   "metadata": {},
   "source": [
    "- Category Sportswear Harga asli"
   ]
  },
  {
   "cell_type": "code",
   "execution_count": 23,
   "metadata": {},
   "outputs": [],
   "source": [
    "# dfs['Harga asli'][(dfs['category']== 'Sportswear') & (dfs['Harga asli'].isna())] = dfs['Harga asli'][(dfs['category']== 'Sportswear') & (dfs['Harga asli'].isna())].fillna(dfshargadiskon['Sportswear']+dfsdiskon['Sportswear'])"
   ]
  },
  {
   "cell_type": "code",
   "execution_count": 24,
   "metadata": {},
   "outputs": [],
   "source": [
    "# dfs['Diskon'][(dfs['category']== 'Sportswear') & (dfs['Harga asli'].isna())] = dfs['Diskon'][(dfs['category']== 'Sportswear') & (dfs['Harga asli'].isna())].fillna(dfsdiskon['Sportswear'])"
   ]
  },
  {
   "cell_type": "markdown",
   "metadata": {},
   "source": [
    "- Category Watches Harga asli"
   ]
  },
  {
   "cell_type": "code",
   "execution_count": 25,
   "metadata": {},
   "outputs": [],
   "source": [
    "# dfs['Harga asli'][(dfs['category']== 'Watches') & (dfs['Harga asli'].isna())] = dfs['Harga asli'][(dfs['category']== 'Watches') & (dfs['Harga asli'].isna())].fillna(dfshargadiskon['Watches']+dfsdiskon['Watches'])"
   ]
  },
  {
   "cell_type": "code",
   "execution_count": 26,
   "metadata": {},
   "outputs": [],
   "source": [
    "# dfs['Diskon'][(dfs['category']== 'Watches') & (dfs['Harga asli'].isna())] = dfs['Diskon'][(dfs['category']== 'Watches') & (dfs['Harga asli'].isna())].fillna(dfsdiskon['Watches'])"
   ]
  },
  {
   "cell_type": "markdown",
   "metadata": {},
   "source": [
    "##### Jadi 8 code di atas yg aku komen harusnya yg ditambahin bukan median harga diskon dg median diskon, tapi harga diskon per produk + median diskon harusnya. Karena sebenernya harga diskonnya sudah ada. Jadi ini di bawah aku define ulang\n",
    "\n",
    "##### Jadi Harga asli yang nan itu di fillna dengan cara (median diskon per category + harga diskon per produknya) "
   ]
  },
  {
   "cell_type": "code",
   "execution_count": null,
   "metadata": {},
   "outputs": [],
   "source": [
    "dfs['Harga asli'][(dfs['category']=='Athletic Shoes')&(dfs['Diskon'].isna())] = dfs['Harga diskon'][(dfs['category']=='Athletic Shoes')&(dfs['Diskon'].isna())] + dfsdiskon['Athletic Shoes']\n",
    "dfs['Harga asli'][(dfs['category']=='Sportswear')&(dfs['Diskon'].isna())] = dfs['Harga diskon'][(dfs['category']=='Sportswear')&(dfs['Diskon'].isna())] + dfsdiskon['Sportswear']\n",
    "dfs['Harga asli'][(dfs['category']=='Perfumes & Fragrances')&(dfs['Diskon'].isna())] = dfs['Harga diskon'][(dfs['category']=='Perfumes & Fragrances')&(dfs['Diskon'].isna())] + dfsdiskon['Perfumes & Fragrances']\n",
    "dfs['Harga asli'][(dfs['category']=='Watches')&(dfs['Diskon'].isna())] = dfs['Harga diskon'][(dfs['category']=='Watches')&(dfs['Diskon'].isna())] + dfsdiskon['Watches']"
   ]
  },
  {
   "cell_type": "code",
   "execution_count": null,
   "metadata": {},
   "outputs": [],
   "source": [
    "dfs['Diskon'][(dfs['category']=='Athletic Shoes')&(dfs['Diskon'].isna())] = dfsdiskon['Athletic Shoes']\n",
    "dfs['Diskon'][(dfs['category']=='Sportswear')&(dfs['Diskon'].isna())] = dfsdiskon['Sportswear']\n",
    "dfs['Diskon'][(dfs['category']=='Perfumes & Fragrances')&(dfs['Diskon'].isna())] = dfsdiskon['Perfumes & Fragrances']\n",
    "dfs['Diskon'][(dfs['category']=='Watches')&(dfs['Diskon'].isna())] = dfsdiskon['Watches']"
   ]
  },
  {
   "cell_type": "markdown",
   "metadata": {},
   "source": [
    "## 3. Shipping Rate\n",
    "\n",
    "Untuk handling shipping rate digunakan fillna dg method modus shipping rate terbanyak"
   ]
  },
  {
   "cell_type": "code",
   "execution_count": 29,
   "metadata": {},
   "outputs": [
    {
     "data": {
      "text/plain": [
       "'FREE Shipping'"
      ]
     },
     "execution_count": 29,
     "metadata": {},
     "output_type": "execute_result"
    }
   ],
   "source": [
    "shippingmodus = dfs['shipping'].mode()\n",
    "shippingmodus[0]"
   ]
  },
  {
   "cell_type": "code",
   "execution_count": null,
   "metadata": {},
   "outputs": [],
   "source": [
    "dfs['shipping'][dfs['shipping'].isna()] = dfs['shipping'][dfs['shipping'].isna()].fillna(shippingmodus[0])"
   ]
  },
  {
   "cell_type": "code",
   "execution_count": 31,
   "metadata": {},
   "outputs": [
    {
     "data": {
      "text/plain": [
       "Series([], Name: shipping, dtype: object)"
      ]
     },
     "execution_count": 31,
     "metadata": {},
     "output_type": "execute_result"
    }
   ],
   "source": [
    "dfs['shipping'][dfs['shipping'].isna()]"
   ]
  },
  {
   "cell_type": "markdown",
   "metadata": {},
   "source": [
    "## 4. Gender\n",
    "\n",
    "Untuk handling gender digunakan fillna dg method modus gender"
   ]
  },
  {
   "cell_type": "code",
   "execution_count": 32,
   "metadata": {},
   "outputs": [
    {
     "data": {
      "text/html": [
       "<div>\n",
       "<style scoped>\n",
       "    .dataframe tbody tr th:only-of-type {\n",
       "        vertical-align: middle;\n",
       "    }\n",
       "\n",
       "    .dataframe tbody tr th {\n",
       "        vertical-align: top;\n",
       "    }\n",
       "\n",
       "    .dataframe thead th {\n",
       "        text-align: right;\n",
       "    }\n",
       "</style>\n",
       "<table border=\"1\" class=\"dataframe\">\n",
       "  <thead>\n",
       "    <tr style=\"text-align: right;\">\n",
       "      <th></th>\n",
       "      <th>Unnamed: 0</th>\n",
       "      <th>category</th>\n",
       "      <th>product</th>\n",
       "      <th>Harga asli</th>\n",
       "      <th>Harga diskon</th>\n",
       "      <th>% penjualan</th>\n",
       "      <th>rating</th>\n",
       "      <th>shipping</th>\n",
       "      <th>gender</th>\n",
       "      <th>Diskon</th>\n",
       "    </tr>\n",
       "  </thead>\n",
       "  <tbody>\n",
       "    <tr>\n",
       "      <th>41</th>\n",
       "      <td>41</td>\n",
       "      <td>Athletic Shoes</td>\n",
       "      <td>Nike FLEX RUNNER Shoe for Kids , Black - 33 EU</td>\n",
       "      <td>199.0</td>\n",
       "      <td>156.48</td>\n",
       "      <td>63.0</td>\n",
       "      <td>NaN</td>\n",
       "      <td>Eligible for FREE Shipping</td>\n",
       "      <td>NaN</td>\n",
       "      <td>42.52</td>\n",
       "    </tr>\n",
       "    <tr>\n",
       "      <th>61</th>\n",
       "      <td>61</td>\n",
       "      <td>Athletic Shoes</td>\n",
       "      <td>Nike Pico 5 GS Sneaker for Kids , Size 40 EU ,...</td>\n",
       "      <td>209.0</td>\n",
       "      <td>140.49</td>\n",
       "      <td>45.0</td>\n",
       "      <td>100.0</td>\n",
       "      <td>Eligible for FREE Shipping</td>\n",
       "      <td>NaN</td>\n",
       "      <td>68.51</td>\n",
       "    </tr>\n",
       "    <tr>\n",
       "      <th>151</th>\n",
       "      <td>9</td>\n",
       "      <td>Eyewear</td>\n",
       "      <td>Ray-Ban 3025 Aviator Large Metal Non-Mirrored ...</td>\n",
       "      <td>1130.0</td>\n",
       "      <td>321.00</td>\n",
       "      <td>75.0</td>\n",
       "      <td>92.0</td>\n",
       "      <td>FREE Shipping</td>\n",
       "      <td>NaN</td>\n",
       "      <td>809.00</td>\n",
       "    </tr>\n",
       "    <tr>\n",
       "      <th>158</th>\n",
       "      <td>16</td>\n",
       "      <td>Eyewear</td>\n",
       "      <td>Ray Ban 4165, 710/13 (51 mm) Sunglass, Brown L...</td>\n",
       "      <td>690.0</td>\n",
       "      <td>311.99</td>\n",
       "      <td>80.0</td>\n",
       "      <td>NaN</td>\n",
       "      <td>FREE Shipping</td>\n",
       "      <td>NaN</td>\n",
       "      <td>378.01</td>\n",
       "    </tr>\n",
       "    <tr>\n",
       "      <th>163</th>\n",
       "      <td>21</td>\n",
       "      <td>Eyewear</td>\n",
       "      <td>Polaroid P4139 Aviator Sunglasses</td>\n",
       "      <td>350.0</td>\n",
       "      <td>131.48</td>\n",
       "      <td>10.0</td>\n",
       "      <td>80.0</td>\n",
       "      <td>Eligible for FREE Shipping</td>\n",
       "      <td>NaN</td>\n",
       "      <td>218.52</td>\n",
       "    </tr>\n",
       "    <tr>\n",
       "      <th>167</th>\n",
       "      <td>25</td>\n",
       "      <td>Eyewear</td>\n",
       "      <td>Carrera Carrera 126/S QGGHD (Black - Gun with ...</td>\n",
       "      <td>750.0</td>\n",
       "      <td>373.49</td>\n",
       "      <td>35.0</td>\n",
       "      <td>90.0</td>\n",
       "      <td>FREE Shipping</td>\n",
       "      <td>NaN</td>\n",
       "      <td>376.51</td>\n",
       "    </tr>\n",
       "    <tr>\n",
       "      <th>198</th>\n",
       "      <td>56</td>\n",
       "      <td>Eyewear</td>\n",
       "      <td>Ray-Ban 0rb3647n Non-Polarized Iridium Round S...</td>\n",
       "      <td>1270.0</td>\n",
       "      <td>603.98</td>\n",
       "      <td>18.0</td>\n",
       "      <td>100.0</td>\n",
       "      <td>FREE Shipping</td>\n",
       "      <td>NaN</td>\n",
       "      <td>666.02</td>\n",
       "    </tr>\n",
       "    <tr>\n",
       "      <th>257</th>\n",
       "      <td>115</td>\n",
       "      <td>Eyewear</td>\n",
       "      <td>Guess GU 7563</td>\n",
       "      <td>669.0</td>\n",
       "      <td>326.49</td>\n",
       "      <td>57.0</td>\n",
       "      <td>20.0</td>\n",
       "      <td>FREE Shipping</td>\n",
       "      <td>NaN</td>\n",
       "      <td>342.51</td>\n",
       "    </tr>\n",
       "    <tr>\n",
       "      <th>261</th>\n",
       "      <td>119</td>\n",
       "      <td>Eyewear</td>\n",
       "      <td>Polaroid Kids' PLD 8016/N K7 SED Sunglasses, H...</td>\n",
       "      <td>250.0</td>\n",
       "      <td>109.00</td>\n",
       "      <td>87.0</td>\n",
       "      <td>78.0</td>\n",
       "      <td>Eligible for FREE Shipping</td>\n",
       "      <td>NaN</td>\n",
       "      <td>141.00</td>\n",
       "    </tr>\n",
       "    <tr>\n",
       "      <th>265</th>\n",
       "      <td>123</td>\n",
       "      <td>Eyewear</td>\n",
       "      <td>Occhiali da Sole 8687 METALLO</td>\n",
       "      <td>1200.0</td>\n",
       "      <td>679.49</td>\n",
       "      <td>33.0</td>\n",
       "      <td>80.0</td>\n",
       "      <td>FREE Shipping</td>\n",
       "      <td>NaN</td>\n",
       "      <td>520.51</td>\n",
       "    </tr>\n",
       "    <tr>\n",
       "      <th>317</th>\n",
       "      <td>21</td>\n",
       "      <td>Perfumes &amp; Fragrances</td>\n",
       "      <td>Guess Man - Eau de Toilette, 75ml</td>\n",
       "      <td>221.0</td>\n",
       "      <td>73.46</td>\n",
       "      <td>33.0</td>\n",
       "      <td>82.0</td>\n",
       "      <td>Eligible for FREE Shipping</td>\n",
       "      <td>NaN</td>\n",
       "      <td>147.54</td>\n",
       "    </tr>\n",
       "    <tr>\n",
       "      <th>364</th>\n",
       "      <td>5</td>\n",
       "      <td>Sportswear</td>\n",
       "      <td>Nike B Nsw Tee Futura Icon Td T-Shirts For Kid...</td>\n",
       "      <td>109.0</td>\n",
       "      <td>53.49</td>\n",
       "      <td>44.0</td>\n",
       "      <td>NaN</td>\n",
       "      <td>Eligible for FREE Shipping</td>\n",
       "      <td>NaN</td>\n",
       "      <td>55.51</td>\n",
       "    </tr>\n",
       "    <tr>\n",
       "      <th>376</th>\n",
       "      <td>17</td>\n",
       "      <td>Sportswear</td>\n",
       "      <td>adidas SID 360 ADI TEE WHITE for MALE</td>\n",
       "      <td>139.0</td>\n",
       "      <td>69.98</td>\n",
       "      <td>25.0</td>\n",
       "      <td>NaN</td>\n",
       "      <td>Eligible for FREE Shipping</td>\n",
       "      <td>NaN</td>\n",
       "      <td>69.02</td>\n",
       "    </tr>\n",
       "    <tr>\n",
       "      <th>377</th>\n",
       "      <td>18</td>\n",
       "      <td>Sportswear</td>\n",
       "      <td>adidas FL_SPR Z FT 3ST BLACK for MALE</td>\n",
       "      <td>139.0</td>\n",
       "      <td>69.98</td>\n",
       "      <td>83.0</td>\n",
       "      <td>NaN</td>\n",
       "      <td>Eligible for FREE Shipping</td>\n",
       "      <td>NaN</td>\n",
       "      <td>69.02</td>\n",
       "    </tr>\n",
       "    <tr>\n",
       "      <th>394</th>\n",
       "      <td>2</td>\n",
       "      <td>Wallets</td>\n",
       "      <td>Tommy Hilfiger Honey Lrg Za Wallet, Tommy Navy...</td>\n",
       "      <td>469.0</td>\n",
       "      <td>172.48</td>\n",
       "      <td>71.0</td>\n",
       "      <td>94.0</td>\n",
       "      <td>Eligible for FREE Shipping</td>\n",
       "      <td>NaN</td>\n",
       "      <td>296.52</td>\n",
       "    </tr>\n",
       "    <tr>\n",
       "      <th>405</th>\n",
       "      <td>13</td>\n",
       "      <td>Wallets</td>\n",
       "      <td>Montblanc Meisterstuck 6 CC Leather Wallet -11...</td>\n",
       "      <td>1100.0</td>\n",
       "      <td>686.00</td>\n",
       "      <td>20.0</td>\n",
       "      <td>NaN</td>\n",
       "      <td>FREE Shipping</td>\n",
       "      <td>NaN</td>\n",
       "      <td>414.00</td>\n",
       "    </tr>\n",
       "    <tr>\n",
       "      <th>412</th>\n",
       "      <td>20</td>\n",
       "      <td>Wallets</td>\n",
       "      <td>Tommy Hilfiger Corp Plaque Mini Cc Money Clip ...</td>\n",
       "      <td>399.0</td>\n",
       "      <td>125.49</td>\n",
       "      <td>51.0</td>\n",
       "      <td>100.0</td>\n",
       "      <td>Eligible for FREE Shipping</td>\n",
       "      <td>NaN</td>\n",
       "      <td>273.51</td>\n",
       "    </tr>\n",
       "    <tr>\n",
       "      <th>414</th>\n",
       "      <td>22</td>\n",
       "      <td>Wallets</td>\n",
       "      <td>Levi's 31LV240021 RFID Tri-Fold Wallet BROWN</td>\n",
       "      <td>110.0</td>\n",
       "      <td>59.48</td>\n",
       "      <td>36.0</td>\n",
       "      <td>80.0</td>\n",
       "      <td>Eligible for FREE Shipping</td>\n",
       "      <td>NaN</td>\n",
       "      <td>50.52</td>\n",
       "    </tr>\n",
       "    <tr>\n",
       "      <th>418</th>\n",
       "      <td>26</td>\n",
       "      <td>Wallets</td>\n",
       "      <td>TOMMY HILFIGER Honey 2 in 1 Washbag Golden Haze</td>\n",
       "      <td>210.0</td>\n",
       "      <td>96.99</td>\n",
       "      <td>32.0</td>\n",
       "      <td>NaN</td>\n",
       "      <td>Eligible for FREE Shipping</td>\n",
       "      <td>NaN</td>\n",
       "      <td>113.01</td>\n",
       "    </tr>\n",
       "    <tr>\n",
       "      <th>423</th>\n",
       "      <td>31</td>\n",
       "      <td>Wallets</td>\n",
       "      <td>Calvin Klein Omega Billfold Wallet, Black, 12 ...</td>\n",
       "      <td>229.0</td>\n",
       "      <td>141.00</td>\n",
       "      <td>10.0</td>\n",
       "      <td>NaN</td>\n",
       "      <td>Eligible for FREE Shipping</td>\n",
       "      <td>NaN</td>\n",
       "      <td>88.00</td>\n",
       "    </tr>\n",
       "    <tr>\n",
       "      <th>504</th>\n",
       "      <td>75</td>\n",
       "      <td>Watches</td>\n",
       "      <td>Diesel Mega Chief Dz4329, Analog</td>\n",
       "      <td>990.0</td>\n",
       "      <td>669.48</td>\n",
       "      <td>93.0</td>\n",
       "      <td>82.0</td>\n",
       "      <td>FREE Shipping</td>\n",
       "      <td>NaN</td>\n",
       "      <td>320.52</td>\n",
       "    </tr>\n",
       "    <tr>\n",
       "      <th>523</th>\n",
       "      <td>94</td>\n",
       "      <td>Watches</td>\n",
       "      <td>Michael Kors Skylar Champagne Dial Gold-tone L...</td>\n",
       "      <td>1013.0</td>\n",
       "      <td>692.49</td>\n",
       "      <td>30.0</td>\n",
       "      <td>100.0</td>\n",
       "      <td>FREE Shipping</td>\n",
       "      <td>NaN</td>\n",
       "      <td>320.51</td>\n",
       "    </tr>\n",
       "  </tbody>\n",
       "</table>\n",
       "</div>"
      ],
      "text/plain": [
       "     Unnamed: 0               category  \\\n",
       "41           41         Athletic Shoes   \n",
       "61           61         Athletic Shoes   \n",
       "151           9                Eyewear   \n",
       "158          16                Eyewear   \n",
       "163          21                Eyewear   \n",
       "167          25                Eyewear   \n",
       "198          56                Eyewear   \n",
       "257         115                Eyewear   \n",
       "261         119                Eyewear   \n",
       "265         123                Eyewear   \n",
       "317          21  Perfumes & Fragrances   \n",
       "364           5             Sportswear   \n",
       "376          17             Sportswear   \n",
       "377          18             Sportswear   \n",
       "394           2                Wallets   \n",
       "405          13                Wallets   \n",
       "412          20                Wallets   \n",
       "414          22                Wallets   \n",
       "418          26                Wallets   \n",
       "423          31                Wallets   \n",
       "504          75                Watches   \n",
       "523          94                Watches   \n",
       "\n",
       "                                               product  Harga asli  \\\n",
       "41      Nike FLEX RUNNER Shoe for Kids , Black - 33 EU       199.0   \n",
       "61   Nike Pico 5 GS Sneaker for Kids , Size 40 EU ,...       209.0   \n",
       "151  Ray-Ban 3025 Aviator Large Metal Non-Mirrored ...      1130.0   \n",
       "158  Ray Ban 4165, 710/13 (51 mm) Sunglass, Brown L...       690.0   \n",
       "163                  Polaroid P4139 Aviator Sunglasses       350.0   \n",
       "167  Carrera Carrera 126/S QGGHD (Black - Gun with ...       750.0   \n",
       "198  Ray-Ban 0rb3647n Non-Polarized Iridium Round S...      1270.0   \n",
       "257                                      Guess GU 7563       669.0   \n",
       "261  Polaroid Kids' PLD 8016/N K7 SED Sunglasses, H...       250.0   \n",
       "265                      Occhiali da Sole 8687 METALLO      1200.0   \n",
       "317                  Guess Man - Eau de Toilette, 75ml       221.0   \n",
       "364  Nike B Nsw Tee Futura Icon Td T-Shirts For Kid...       109.0   \n",
       "376              adidas SID 360 ADI TEE WHITE for MALE       139.0   \n",
       "377              adidas FL_SPR Z FT 3ST BLACK for MALE       139.0   \n",
       "394  Tommy Hilfiger Honey Lrg Za Wallet, Tommy Navy...       469.0   \n",
       "405  Montblanc Meisterstuck 6 CC Leather Wallet -11...      1100.0   \n",
       "412  Tommy Hilfiger Corp Plaque Mini Cc Money Clip ...       399.0   \n",
       "414       Levi's 31LV240021 RFID Tri-Fold Wallet BROWN       110.0   \n",
       "418    TOMMY HILFIGER Honey 2 in 1 Washbag Golden Haze       210.0   \n",
       "423  Calvin Klein Omega Billfold Wallet, Black, 12 ...       229.0   \n",
       "504                   Diesel Mega Chief Dz4329, Analog       990.0   \n",
       "523  Michael Kors Skylar Champagne Dial Gold-tone L...      1013.0   \n",
       "\n",
       "     Harga diskon  % penjualan  rating                    shipping gender  \\\n",
       "41         156.48         63.0     NaN  Eligible for FREE Shipping    NaN   \n",
       "61         140.49         45.0   100.0  Eligible for FREE Shipping    NaN   \n",
       "151        321.00         75.0    92.0               FREE Shipping    NaN   \n",
       "158        311.99         80.0     NaN               FREE Shipping    NaN   \n",
       "163        131.48         10.0    80.0  Eligible for FREE Shipping    NaN   \n",
       "167        373.49         35.0    90.0               FREE Shipping    NaN   \n",
       "198        603.98         18.0   100.0               FREE Shipping    NaN   \n",
       "257        326.49         57.0    20.0               FREE Shipping    NaN   \n",
       "261        109.00         87.0    78.0  Eligible for FREE Shipping    NaN   \n",
       "265        679.49         33.0    80.0               FREE Shipping    NaN   \n",
       "317         73.46         33.0    82.0  Eligible for FREE Shipping    NaN   \n",
       "364         53.49         44.0     NaN  Eligible for FREE Shipping    NaN   \n",
       "376         69.98         25.0     NaN  Eligible for FREE Shipping    NaN   \n",
       "377         69.98         83.0     NaN  Eligible for FREE Shipping    NaN   \n",
       "394        172.48         71.0    94.0  Eligible for FREE Shipping    NaN   \n",
       "405        686.00         20.0     NaN               FREE Shipping    NaN   \n",
       "412        125.49         51.0   100.0  Eligible for FREE Shipping    NaN   \n",
       "414         59.48         36.0    80.0  Eligible for FREE Shipping    NaN   \n",
       "418         96.99         32.0     NaN  Eligible for FREE Shipping    NaN   \n",
       "423        141.00         10.0     NaN  Eligible for FREE Shipping    NaN   \n",
       "504        669.48         93.0    82.0               FREE Shipping    NaN   \n",
       "523        692.49         30.0   100.0               FREE Shipping    NaN   \n",
       "\n",
       "     Diskon  \n",
       "41    42.52  \n",
       "61    68.51  \n",
       "151  809.00  \n",
       "158  378.01  \n",
       "163  218.52  \n",
       "167  376.51  \n",
       "198  666.02  \n",
       "257  342.51  \n",
       "261  141.00  \n",
       "265  520.51  \n",
       "317  147.54  \n",
       "364   55.51  \n",
       "376   69.02  \n",
       "377   69.02  \n",
       "394  296.52  \n",
       "405  414.00  \n",
       "412  273.51  \n",
       "414   50.52  \n",
       "418  113.01  \n",
       "423   88.00  \n",
       "504  320.52  \n",
       "523  320.51  "
      ]
     },
     "execution_count": 32,
     "metadata": {},
     "output_type": "execute_result"
    }
   ],
   "source": [
    "dfs[dfs['gender'].isna()]"
   ]
  },
  {
   "cell_type": "code",
   "execution_count": 33,
   "metadata": {},
   "outputs": [
    {
     "data": {
      "text/plain": [
       "'men'"
      ]
     },
     "execution_count": 33,
     "metadata": {},
     "output_type": "execute_result"
    }
   ],
   "source": [
    "gendermodus = dfs['gender'].mode()\n",
    "gendermodus[0]"
   ]
  },
  {
   "cell_type": "code",
   "execution_count": null,
   "metadata": {},
   "outputs": [],
   "source": [
    "dfs['gender'][dfs['gender'].isna()] = dfs['gender'][dfs['gender'].isna()].fillna(gendermodus[0])"
   ]
  },
  {
   "cell_type": "markdown",
   "metadata": {},
   "source": [
    "## 5. Rating\n",
    "Dikarenakan rating tidak terlalu berhubungan dengan % penjualan, maka kolom rating di drop"
   ]
  },
  {
   "cell_type": "code",
   "execution_count": 35,
   "metadata": {},
   "outputs": [],
   "source": [
    "dfs.drop('rating', axis=1, inplace=True)"
   ]
  },
  {
   "cell_type": "code",
   "execution_count": 36,
   "metadata": {},
   "outputs": [
    {
     "data": {
      "text/plain": [
       "Unnamed: 0      0\n",
       "category        0\n",
       "product         0\n",
       "Harga asli      0\n",
       "Harga diskon    0\n",
       "% penjualan     0\n",
       "shipping        0\n",
       "gender          0\n",
       "Diskon          0\n",
       "dtype: int64"
      ]
     },
     "execution_count": 36,
     "metadata": {},
     "output_type": "execute_result"
    }
   ],
   "source": [
    "dfs.isnull().sum()"
   ]
  },
  {
   "cell_type": "markdown",
   "metadata": {},
   "source": [
    "---------------------------------------------------------------------------------------------------------------------------------------"
   ]
  },
  {
   "cell_type": "markdown",
   "metadata": {},
   "source": [
    "# EDA"
   ]
  },
  {
   "cell_type": "code",
   "execution_count": 37,
   "metadata": {},
   "outputs": [
    {
     "data": {
      "text/plain": [
       "Text(0.5, 1.0, 'Heatmap Graph of Dataset')"
      ]
     },
     "execution_count": 37,
     "metadata": {},
     "output_type": "execute_result"
    },
    {
     "data": {
      "image/png": "[encoded data removed]",
      "text/plain": [
       "<Figure size 720x576 with 2 Axes>"
      ]
     },
     "metadata": {
      "needs_background": "light"
     },
     "output_type": "display_data"
    }
   ],
   "source": [
    "plt.figure(figsize=(10, 8))\n",
    "sns.heatmap(dfs.corr(), cmap='viridis', annot=True)\n",
    "plt.title('Heatmap Graph of Dataset', fontsize=20)"
   ]
  },
  {
   "cell_type": "markdown",
   "metadata": {},
   "source": [
    "## 1. Mengetahui pengaruh diskon terhadap persentase penjualan produk per category"
   ]
  },
  {
   "cell_type": "code",
   "execution_count": 38,
   "metadata": {},
   "outputs": [
    {
     "data": {
      "text/plain": [
       "0    507.005\n",
       "dtype: float64"
      ]
     },
     "execution_count": 38,
     "metadata": {},
     "output_type": "execute_result"
    }
   ],
   "source": [
    "dfs['Diskon'].mode()"
   ]
  },
  {
   "cell_type": "code",
   "execution_count": 39,
   "metadata": {},
   "outputs": [
    {
     "data": {
      "text/plain": [
       "<Figure size 864x216 with 0 Axes>"
      ]
     },
     "metadata": {},
     "output_type": "display_data"
    },
    {
     "data": {
      "image/png": "[encoded data removed]",
      "text/plain": [
       "<Figure size 512.125x360 with 1 Axes>"
      ]
     },
     "metadata": {
      "needs_background": "light"
     },
     "output_type": "display_data"
    }
   ],
   "source": [
    "plt.figure(figsize=(12,3))\n",
    "sns.lmplot(x=\"Diskon\", y=\"% penjualan\", data=dfs, hue='category', palette=\"muted\")\n",
    "plt.show()"
   ]
  },
  {
   "cell_type": "markdown",
   "metadata": {},
   "source": [
    "### Insight 1\n",
    "\n",
    "Kecenderungan pengaruh diskon terhadap persentase penjualan ialah positif, akan tetapi berdasarkan grafik terlihat bahwa pengaruhnya tidak terlalu kuat. Menurut website berikut https://smallbusiness.chron.com/advantages-offering-discounts-business-25765.html, diskon dapat menambah potensi terjualnya produk pada suatu toko. Akan tetapi tidak menjamin meningkatkan persentase penjualan secara signifikan"
   ]
  },
  {
   "cell_type": "code",
   "execution_count": 40,
   "metadata": {},
   "outputs": [
    {
     "data": {
      "image/png": "[encoded data removed]",
      "text/plain": [
       "<Figure size 512.125x360 with 1 Axes>"
      ]
     },
     "metadata": {
      "needs_background": "light"
     },
     "output_type": "display_data"
    }
   ],
   "source": [
    "sns.lmplot(x=\"Harga diskon\", y=\"% penjualan\", data=dfs, hue='category', palette=\"muted\")\n",
    "plt.show()"
   ]
  },
  {
   "cell_type": "markdown",
   "metadata": {},
   "source": [
    "### Insight 2\n",
    "\n",
    "Diskon besar pengaruhnya terhadap harga jual. Kemudian, berdasarkan grafik, pengaruh harga produk per category setelah didiskon juga memiliki pengaruh yang tidak terlalu signifikan."
   ]
  },
  {
   "cell_type": "markdown",
   "metadata": {},
   "source": [
    "## 2. Meningkatkan persentase penjualan produk per category"
   ]
  },
  {
   "cell_type": "code",
   "execution_count": 41,
   "metadata": {},
   "outputs": [
    {
     "data": {
      "text/html": [
       "<div>\n",
       "<style scoped>\n",
       "    .dataframe tbody tr th:only-of-type {\n",
       "        vertical-align: middle;\n",
       "    }\n",
       "\n",
       "    .dataframe tbody tr th {\n",
       "        vertical-align: top;\n",
       "    }\n",
       "\n",
       "    .dataframe thead th {\n",
       "        text-align: right;\n",
       "    }\n",
       "</style>\n",
       "<table border=\"1\" class=\"dataframe\">\n",
       "  <thead>\n",
       "    <tr style=\"text-align: right;\">\n",
       "      <th></th>\n",
       "      <th>% penjualan</th>\n",
       "    </tr>\n",
       "    <tr>\n",
       "      <th>category</th>\n",
       "      <th></th>\n",
       "    </tr>\n",
       "  </thead>\n",
       "  <tbody>\n",
       "    <tr>\n",
       "      <th>Athletic Shoes</th>\n",
       "      <td>63.048780</td>\n",
       "    </tr>\n",
       "    <tr>\n",
       "      <th>Casual &amp; Dress Shoes</th>\n",
       "      <td>52.028571</td>\n",
       "    </tr>\n",
       "    <tr>\n",
       "      <th>Eyewear</th>\n",
       "      <td>48.307692</td>\n",
       "    </tr>\n",
       "    <tr>\n",
       "      <th>Perfumes &amp; Fragrances</th>\n",
       "      <td>73.793651</td>\n",
       "    </tr>\n",
       "    <tr>\n",
       "      <th>Sportswear</th>\n",
       "      <td>51.142857</td>\n",
       "    </tr>\n",
       "    <tr>\n",
       "      <th>Wallets</th>\n",
       "      <td>43.942857</td>\n",
       "    </tr>\n",
       "    <tr>\n",
       "      <th>Watches</th>\n",
       "      <td>61.865772</td>\n",
       "    </tr>\n",
       "  </tbody>\n",
       "</table>\n",
       "</div>"
      ],
      "text/plain": [
       "                       % penjualan\n",
       "category                          \n",
       "Athletic Shoes           63.048780\n",
       "Casual & Dress Shoes     52.028571\n",
       "Eyewear                  48.307692\n",
       "Perfumes & Fragrances    73.793651\n",
       "Sportswear               51.142857\n",
       "Wallets                  43.942857\n",
       "Watches                  61.865772"
      ]
     },
     "execution_count": 41,
     "metadata": {},
     "output_type": "execute_result"
    }
   ],
   "source": [
    "a = dfs.groupby(['category'])['% penjualan'].mean()\n",
    "a = pd.DataFrame(a)\n",
    "a"
   ]
  },
  {
   "cell_type": "code",
   "execution_count": 42,
   "metadata": {},
   "outputs": [
    {
     "data": {
      "text/plain": [
       "56.304311587930606"
      ]
     },
     "execution_count": 42,
     "metadata": {},
     "output_type": "execute_result"
    }
   ],
   "source": [
    "a['% penjualan'].mean()"
   ]
  },
  {
   "cell_type": "code",
   "execution_count": 43,
   "metadata": {},
   "outputs": [
    {
     "data": {
      "image/png": "[encoded data removed]",
      "text/plain": [
       "<Figure size 720x360 with 1 Axes>"
      ]
     },
     "metadata": {
      "needs_background": "light"
     },
     "output_type": "display_data"
    }
   ],
   "source": [
    "f, ax1 = plt.subplots(figsize=(10, 5), sharex=True)\n",
    "\n",
    "x = dfs['category'].unique().tolist()\n",
    "y1 = a[:]['% penjualan']\n",
    "sns.barplot(x=x, y=y1, palette=\"rocket\", ax=ax1)\n",
    "ax1.set_ylabel(\"% penjualan\")\n",
    "ax1.set_title('% Rata-rata Penjualan per Category', size = 15)\n",
    "ax1.set_xticklabels(ax1.get_xticklabels(), rotation=45)\n",
    "plt.show()"
   ]
  },
  {
   "cell_type": "markdown",
   "metadata": {},
   "source": [
    "### Insight 3\n",
    "\n",
    "Top 3 Category product dengan persentase rata-rata penjualan tertinggi\n",
    "\n",
    "1. Parfume & Fragrances (73.79 %)\n",
    "2. Athletic Shoes (63.05 %)\n",
    "3. Watches (61.87 %)"
   ]
  },
  {
   "cell_type": "markdown",
   "metadata": {},
   "source": [
    "### Insight 4\n",
    "\n",
    "Daftar Category product dengan persentase di bawah rata-rata persentase penjualan (56.30 %)\n",
    "\n",
    "1. Casual & Dress Shoes (52.03 %)\n",
    "2. Sportswear (51.14 %)\n",
    "3. Eyewear (48.31 %)\n",
    "4. Wallets (43.94 %)"
   ]
  },
  {
   "cell_type": "markdown",
   "metadata": {},
   "source": [
    "---------------------------------------------------------------------------------------------------------------------------------------"
   ]
  },
  {
   "cell_type": "markdown",
   "metadata": {},
   "source": [
    "## Kesimpulan analisis"
   ]
  },
  {
   "cell_type": "markdown",
   "metadata": {},
   "source": [
    "##### 1. Diskon dan Harga setelah diskon memiliki pengaruh yang kecil terhadap persentase penjualan. Oleh karena itu diperlukan sedikit peningkatan diskon produk atau penurunan sedikit harga diskon agar dapat meningkatkan persentase penjualan product\n",
    "\n",
    "##### 2. Harus dilakukan peningkatan penjulan untuk kategory Casual & Dress Shoes, Sportwear, Eyewear, dan Wallets dengan cara membuat segmentasi dan memberikan promo bundling dengan category produk yang tinggi persentase penjualan nya.\n",
    "\n",
    "- Wallets dengan Perfume & Fragrances\n",
    "- Sportswear dengan Athtletic Shoes\n",
    "- Watches dengan Casual dress Shoes dan Eyewear"
   ]
  }
 ],
 "metadata": {
  "kernelspec": {
   "display_name": "Python 3.8.3 64-bit",
   "language": "python",
   "name": "python38364bitf98a9d7598a340bdaa881acb74c38372"
  },
  "language_info": {
   "codemirror_mode": {
    "name": "ipython",
    "version": 3
   },
   "file_extension": ".py",
   "mimetype": "text/x-python",
   "name": "python",
   "nbconvert_exporter": "python",
   "pygments_lexer": "ipython3",
   "version": "3.8.3rc1"
  }
 },
 "nbformat": 4,
 "nbformat_minor": 4
}
